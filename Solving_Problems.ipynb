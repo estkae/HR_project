{
 "cells": [
  {
   "cell_type": "code",
   "execution_count": 1,
   "metadata": {},
   "outputs": [],
   "source": [
    "import pandas as pd\n",
    "import matplotlib.pyplot as plt\n",
    "import seaborn as sns\n",
    "%matplotlib inline\n",
    "import numpy as np\n",
    "\n",
    "import itertools\n",
    "import warnings\n",
    "warnings.filterwarnings('ignore')\n",
    "\n",
    "from sklearn.model_selection import train_test_split, cross_val_score\n",
    "from sklearn.preprocessing import LabelEncoder, LabelBinarizer, binarize\n",
    "from sklearn.linear_model import LogisticRegression\n",
    "from sklearn import metrics\n",
    "\n",
    "from sklearn.ensemble import AdaBoostClassifier, GradientBoostingClassifier\n",
    "from sklearn.metrics import accuracy_score, f1_score, confusion_matrix, classification_report\n",
    "\n",
    "# SMOTE\n",
    "import imblearn\n",
    "from collections import Counter\n",
    "from sklearn.datasets import make_classification\n",
    "from imblearn.over_sampling import SMOTE\n",
    "from matplotlib import pyplot\n",
    "from numpy import where\n",
    "from imblearn.under_sampling import RandomUnderSampler\n",
    "from imblearn.pipeline import Pipeline\n",
    "from matplotlib import pyplot\n",
    "\n",
    "#KNN Imports\n",
    "from sklearn.neighbors import KNeighborsClassifier\n",
    "from sklearn.preprocessing import StandardScaler\n",
    "\n",
    "#decision trees Imports\n",
    "from sklearn.tree import DecisionTreeRegressor\n",
    "from sklearn.externals.six import StringIO  \n",
    "from IPython.display import Image  \n",
    "from sklearn.tree import export_graphviz\n",
    "# import pydotplus\n",
    "from sklearn.metrics import mean_squared_error\n",
    "from sklearn.tree import DecisionTreeClassifier\n",
    "from sklearn.model_selection import KFold\n",
    "from sklearn.externals.six import StringIO\n",
    "\n",
    "#Random Forest Imports\n",
    "from sklearn.ensemble import BaggingClassifier, RandomForestClassifier, AdaBoostClassifier\n",
    "from sklearn.model_selection import RandomizedSearchCV"
   ]
  },
  {
   "cell_type": "code",
   "execution_count": 2,
   "metadata": {},
   "outputs": [],
   "source": [
    "hr_data = pd.read_csv('datafiles/hrdata_cleaned',index_col=0)"
   ]
  },
  {
   "cell_type": "code",
   "execution_count": 3,
   "metadata": {},
   "outputs": [],
   "source": [
    "df_target = hr_data['performance_score_Exceptional']+hr_data['performance_score_Exceeds']\n",
    "df_feats = hr_data.drop(columns=['performance_score_Exceeds','performance_score_Exceptional','performance_score_Fully Meets','performance_score_N/A- too early to review','performance_score_Needs Improvement','performance_score_PIP'])\n"
   ]
  },
  {
   "cell_type": "markdown",
   "metadata": {},
   "source": [
    "# Train Test Split"
   ]
  },
  {
   "cell_type": "code",
   "execution_count": 4,
   "metadata": {},
   "outputs": [],
   "source": [
    "#creating matrix of features \n",
    "X = df_feats.drop(columns=['name'])\n",
    "#assigning target variable \n",
    "y = df_target\n",
    "#creating a list of features\n",
    "feature_cols = X.columns"
   ]
  },
  {
   "cell_type": "code",
   "execution_count": 5,
   "metadata": {},
   "outputs": [
    {
     "data": {
      "text/plain": [
       "0    263\n",
       "1     37\n",
       "dtype: int64"
      ]
     },
     "execution_count": 5,
     "metadata": {},
     "output_type": "execute_result"
    }
   ],
   "source": [
    "y.value_counts()"
   ]
  },
  {
   "cell_type": "code",
   "execution_count": 6,
   "metadata": {},
   "outputs": [],
   "source": [
    "# Use x and y variables to split the training data into train and test set\n",
    "X_train, X_test, y_train, y_test = train_test_split(X, y, test_size = .40,random_state=42)"
   ]
  },
  {
   "cell_type": "markdown",
   "metadata": {},
   "source": [
    "1. Logistic Regression"
   ]
  },
  {
   "cell_type": "code",
   "execution_count": 7,
   "metadata": {},
   "outputs": [
    {
     "data": {
      "text/plain": [
       "LogisticRegression(C=1.0, class_weight=None, dual=False, fit_intercept=True,\n",
       "                   intercept_scaling=1, l1_ratio=None, max_iter=100,\n",
       "                   multi_class='auto', n_jobs=None, penalty='l2',\n",
       "                   random_state=None, solver='lbfgs', tol=0.0001, verbose=0,\n",
       "                   warm_start=False)"
      ]
     },
     "execution_count": 7,
     "metadata": {},
     "output_type": "execute_result"
    }
   ],
   "source": [
    "logreg = LogisticRegression()\n",
    "logreg.fit(X_train, y_train)"
   ]
  },
  {
   "cell_type": "code",
   "execution_count": 8,
   "metadata": {},
   "outputs": [],
   "source": [
    "dictionary = dict(zip(list(X_train.columns), list(logreg.coef_[0])))\n",
    "# make class predictions for the testing set\n",
    "y_pred_class = logreg.predict(X_test)"
   ]
  },
  {
   "cell_type": "code",
   "execution_count": 9,
   "metadata": {},
   "outputs": [
    {
     "name": "stdout",
     "output_type": "stream",
     "text": [
      "0.8583333333333333\n"
     ]
    }
   ],
   "source": [
    "print(metrics.accuracy_score(y_test, y_pred_class))"
   ]
  },
  {
   "cell_type": "code",
   "execution_count": 10,
   "metadata": {},
   "outputs": [
    {
     "data": {
      "text/plain": [
       "0    107\n",
       "1     13\n",
       "dtype: int64"
      ]
     },
     "execution_count": 10,
     "metadata": {},
     "output_type": "execute_result"
    }
   ],
   "source": [
    "y_test.value_counts()"
   ]
  },
  {
   "cell_type": "code",
   "execution_count": 11,
   "metadata": {},
   "outputs": [
    {
     "name": "stdout",
     "output_type": "stream",
     "text": [
      "[[102   5]\n",
      " [ 12   1]]\n"
     ]
    }
   ],
   "source": [
    "# IMPORTANT: first argument is true values, second argument is predicted values\n",
    "print(metrics.confusion_matrix(y_test, y_pred_class))"
   ]
  },
  {
   "cell_type": "code",
   "execution_count": 12,
   "metadata": {},
   "outputs": [],
   "source": [
    "#pip install imbalanced-learn"
   ]
  },
  {
   "cell_type": "code",
   "execution_count": null,
   "metadata": {},
   "outputs": [],
   "source": []
  },
  {
   "cell_type": "code",
   "execution_count": 13,
   "metadata": {},
   "outputs": [
    {
     "name": "stdout",
     "output_type": "stream",
     "text": [
      "Counter({0: 263, 1: 263})\n"
     ]
    }
   ],
   "source": [
    "# transform the dataset\n",
    "oversample = SMOTE()\n",
    "X, y = oversample.fit_resample(X, y)\n",
    "# summarize the new class distribution\n",
    "counter = Counter(y)\n",
    "print(counter)"
   ]
  },
  {
   "cell_type": "code",
   "execution_count": 14,
   "metadata": {},
   "outputs": [],
   "source": [
    "# Use x and y variables to split the training data into train and test set\n",
    "X_train, X_test, y_train, y_test = train_test_split(X, y, test_size = .40,random_state=42)"
   ]
  },
  {
   "cell_type": "code",
   "execution_count": 15,
   "metadata": {},
   "outputs": [
    {
     "data": {
      "text/plain": [
       "LogisticRegression(C=1.0, class_weight=None, dual=False, fit_intercept=True,\n",
       "                   intercept_scaling=1, l1_ratio=None, max_iter=100,\n",
       "                   multi_class='auto', n_jobs=None, penalty='l2',\n",
       "                   random_state=None, solver='lbfgs', tol=0.0001, verbose=0,\n",
       "                   warm_start=False)"
      ]
     },
     "execution_count": 15,
     "metadata": {},
     "output_type": "execute_result"
    }
   ],
   "source": [
    "logreg = LogisticRegression()\n",
    "logreg.fit(X_train, y_train)"
   ]
  },
  {
   "cell_type": "code",
   "execution_count": 16,
   "metadata": {},
   "outputs": [
    {
     "name": "stdout",
     "output_type": "stream",
     "text": [
      "Accuracy_Score--------\n",
      "0.8625592417061612\n",
      "\n",
      "\n",
      "Value_Counts--------\n",
      "1    111\n",
      "0    100\n",
      "dtype: int64\n"
     ]
    }
   ],
   "source": [
    "dictionary = dict(zip(list(X_train.columns), list(logreg.coef_[0])))\n",
    "# make class predictions for the testing set\n",
    "y_pred_class = logreg.predict(X_test)\n",
    "print('Accuracy_Score--------')\n",
    "print(metrics.accuracy_score(y_test, y_pred_class))\n",
    "print('\\n')\n",
    "print('Value_Counts--------')\n",
    "print(y_test.value_counts())"
   ]
  },
  {
   "cell_type": "markdown",
   "metadata": {},
   "source": [
    "**Confusion matrix**"
   ]
  },
  {
   "cell_type": "code",
   "execution_count": 17,
   "metadata": {},
   "outputs": [
    {
     "name": "stdout",
     "output_type": "stream",
     "text": [
      "[[89 11]\n",
      " [18 93]]\n"
     ]
    }
   ],
   "source": [
    "print(metrics.confusion_matrix(y_test, y_pred_class))"
   ]
  },
  {
   "cell_type": "markdown",
   "metadata": {},
   "source": [
    "# 1. Is there any relationship between who a person works for and their performance score?\n",
    "- Correlation between manager and performance score "
   ]
  },
  {
   "cell_type": "code",
   "execution_count": 18,
   "metadata": {},
   "outputs": [],
   "source": [
    "hr_data = hr_data.set_index('name')"
   ]
  },
  {
   "cell_type": "code",
   "execution_count": 220,
   "metadata": {},
   "outputs": [],
   "source": [
    "data = pd.read_csv('datafiles/HR_dataset.csv')"
   ]
  },
  {
   "cell_type": "code",
   "execution_count": 221,
   "metadata": {},
   "outputs": [
    {
     "data": {
      "text/html": [
       "<div>\n",
       "<style scoped>\n",
       "    .dataframe tbody tr th:only-of-type {\n",
       "        vertical-align: middle;\n",
       "    }\n",
       "\n",
       "    .dataframe tbody tr th {\n",
       "        vertical-align: top;\n",
       "    }\n",
       "\n",
       "    .dataframe thead th {\n",
       "        text-align: right;\n",
       "    }\n",
       "</style>\n",
       "<table border=\"1\" class=\"dataframe\">\n",
       "  <thead>\n",
       "    <tr style=\"text-align: right;\">\n",
       "      <th></th>\n",
       "      <th>Employee Number</th>\n",
       "      <th>State</th>\n",
       "      <th>Zip</th>\n",
       "      <th>DOB</th>\n",
       "      <th>Age</th>\n",
       "      <th>Sex</th>\n",
       "      <th>MaritalDesc</th>\n",
       "      <th>CitizenDesc</th>\n",
       "      <th>Hispanic/Latino</th>\n",
       "      <th>RaceDesc</th>\n",
       "      <th>...</th>\n",
       "      <th>Pay Rate</th>\n",
       "      <th>Manager Name</th>\n",
       "      <th>Employee Source</th>\n",
       "      <th>Performance Score_90-day meets</th>\n",
       "      <th>Performance Score_Exceeds</th>\n",
       "      <th>Performance Score_Exceptional</th>\n",
       "      <th>Performance Score_Fully Meets</th>\n",
       "      <th>Performance Score_N/A- too early to review</th>\n",
       "      <th>Performance Score_Needs Improvement</th>\n",
       "      <th>Performance Score_PIP</th>\n",
       "    </tr>\n",
       "    <tr>\n",
       "      <th>Employee Name</th>\n",
       "      <th></th>\n",
       "      <th></th>\n",
       "      <th></th>\n",
       "      <th></th>\n",
       "      <th></th>\n",
       "      <th></th>\n",
       "      <th></th>\n",
       "      <th></th>\n",
       "      <th></th>\n",
       "      <th></th>\n",
       "      <th></th>\n",
       "      <th></th>\n",
       "      <th></th>\n",
       "      <th></th>\n",
       "      <th></th>\n",
       "      <th></th>\n",
       "      <th></th>\n",
       "      <th></th>\n",
       "      <th></th>\n",
       "      <th></th>\n",
       "      <th></th>\n",
       "    </tr>\n",
       "  </thead>\n",
       "  <tbody>\n",
       "    <tr>\n",
       "      <th>Brown, Mia</th>\n",
       "      <td>1.103024e+09</td>\n",
       "      <td>MA</td>\n",
       "      <td>1450.0</td>\n",
       "      <td>11/24/85</td>\n",
       "      <td>32.0</td>\n",
       "      <td>Female</td>\n",
       "      <td>Married</td>\n",
       "      <td>US Citizen</td>\n",
       "      <td>No</td>\n",
       "      <td>Black or African American</td>\n",
       "      <td>...</td>\n",
       "      <td>28.50</td>\n",
       "      <td>Brandon R. LeBlanc</td>\n",
       "      <td>Diversity Job Fair</td>\n",
       "      <td>0</td>\n",
       "      <td>0</td>\n",
       "      <td>0</td>\n",
       "      <td>1</td>\n",
       "      <td>0</td>\n",
       "      <td>0</td>\n",
       "      <td>0</td>\n",
       "    </tr>\n",
       "    <tr>\n",
       "      <th>LaRotonda, William</th>\n",
       "      <td>1.106027e+09</td>\n",
       "      <td>MA</td>\n",
       "      <td>1460.0</td>\n",
       "      <td>4/26/84</td>\n",
       "      <td>33.0</td>\n",
       "      <td>Male</td>\n",
       "      <td>Divorced</td>\n",
       "      <td>US Citizen</td>\n",
       "      <td>No</td>\n",
       "      <td>Black or African American</td>\n",
       "      <td>...</td>\n",
       "      <td>23.00</td>\n",
       "      <td>Brandon R. LeBlanc</td>\n",
       "      <td>Website Banner Ads</td>\n",
       "      <td>0</td>\n",
       "      <td>0</td>\n",
       "      <td>0</td>\n",
       "      <td>1</td>\n",
       "      <td>0</td>\n",
       "      <td>0</td>\n",
       "      <td>0</td>\n",
       "    </tr>\n",
       "    <tr>\n",
       "      <th>Steans, Tyrone</th>\n",
       "      <td>1.302053e+09</td>\n",
       "      <td>MA</td>\n",
       "      <td>2703.0</td>\n",
       "      <td>9/1/86</td>\n",
       "      <td>31.0</td>\n",
       "      <td>Male</td>\n",
       "      <td>Single</td>\n",
       "      <td>US Citizen</td>\n",
       "      <td>No</td>\n",
       "      <td>White</td>\n",
       "      <td>...</td>\n",
       "      <td>29.00</td>\n",
       "      <td>Brandon R. LeBlanc</td>\n",
       "      <td>Internet Search</td>\n",
       "      <td>0</td>\n",
       "      <td>0</td>\n",
       "      <td>0</td>\n",
       "      <td>1</td>\n",
       "      <td>0</td>\n",
       "      <td>0</td>\n",
       "      <td>0</td>\n",
       "    </tr>\n",
       "    <tr>\n",
       "      <th>Howard, Estelle</th>\n",
       "      <td>1.211051e+09</td>\n",
       "      <td>MA</td>\n",
       "      <td>2170.0</td>\n",
       "      <td>9/16/85</td>\n",
       "      <td>32.0</td>\n",
       "      <td>Female</td>\n",
       "      <td>Married</td>\n",
       "      <td>US Citizen</td>\n",
       "      <td>No</td>\n",
       "      <td>White</td>\n",
       "      <td>...</td>\n",
       "      <td>21.50</td>\n",
       "      <td>Brandon R. LeBlanc</td>\n",
       "      <td>Pay Per Click - Google</td>\n",
       "      <td>0</td>\n",
       "      <td>0</td>\n",
       "      <td>0</td>\n",
       "      <td>0</td>\n",
       "      <td>1</td>\n",
       "      <td>0</td>\n",
       "      <td>0</td>\n",
       "    </tr>\n",
       "    <tr>\n",
       "      <th>Singh, Nan</th>\n",
       "      <td>1.307060e+09</td>\n",
       "      <td>MA</td>\n",
       "      <td>2330.0</td>\n",
       "      <td>5/19/88</td>\n",
       "      <td>29.0</td>\n",
       "      <td>Female</td>\n",
       "      <td>Single</td>\n",
       "      <td>US Citizen</td>\n",
       "      <td>No</td>\n",
       "      <td>White</td>\n",
       "      <td>...</td>\n",
       "      <td>16.56</td>\n",
       "      <td>Brandon R. LeBlanc</td>\n",
       "      <td>Website Banner Ads</td>\n",
       "      <td>0</td>\n",
       "      <td>0</td>\n",
       "      <td>0</td>\n",
       "      <td>0</td>\n",
       "      <td>1</td>\n",
       "      <td>0</td>\n",
       "      <td>0</td>\n",
       "    </tr>\n",
       "    <tr>\n",
       "      <th>...</th>\n",
       "      <td>...</td>\n",
       "      <td>...</td>\n",
       "      <td>...</td>\n",
       "      <td>...</td>\n",
       "      <td>...</td>\n",
       "      <td>...</td>\n",
       "      <td>...</td>\n",
       "      <td>...</td>\n",
       "      <td>...</td>\n",
       "      <td>...</td>\n",
       "      <td>...</td>\n",
       "      <td>...</td>\n",
       "      <td>...</td>\n",
       "      <td>...</td>\n",
       "      <td>...</td>\n",
       "      <td>...</td>\n",
       "      <td>...</td>\n",
       "      <td>...</td>\n",
       "      <td>...</td>\n",
       "      <td>...</td>\n",
       "      <td>...</td>\n",
       "    </tr>\n",
       "    <tr>\n",
       "      <th>Saada, Adell</th>\n",
       "      <td>1.012023e+09</td>\n",
       "      <td>MA</td>\n",
       "      <td>2132.0</td>\n",
       "      <td>7/24/86</td>\n",
       "      <td>31.0</td>\n",
       "      <td>Female</td>\n",
       "      <td>Married</td>\n",
       "      <td>US Citizen</td>\n",
       "      <td>No</td>\n",
       "      <td>White</td>\n",
       "      <td>...</td>\n",
       "      <td>49.25</td>\n",
       "      <td>Alex Sweetwater</td>\n",
       "      <td>Pay Per Click - Google</td>\n",
       "      <td>0</td>\n",
       "      <td>0</td>\n",
       "      <td>0</td>\n",
       "      <td>1</td>\n",
       "      <td>0</td>\n",
       "      <td>0</td>\n",
       "      <td>0</td>\n",
       "    </tr>\n",
       "    <tr>\n",
       "      <th>Szabo, Andrew</th>\n",
       "      <td>1.201031e+09</td>\n",
       "      <td>MA</td>\n",
       "      <td>2140.0</td>\n",
       "      <td>5/6/83</td>\n",
       "      <td>34.0</td>\n",
       "      <td>Male</td>\n",
       "      <td>Single</td>\n",
       "      <td>US Citizen</td>\n",
       "      <td>No</td>\n",
       "      <td>White</td>\n",
       "      <td>...</td>\n",
       "      <td>48.00</td>\n",
       "      <td>Alex Sweetwater</td>\n",
       "      <td>MBTA ads</td>\n",
       "      <td>0</td>\n",
       "      <td>0</td>\n",
       "      <td>1</td>\n",
       "      <td>0</td>\n",
       "      <td>0</td>\n",
       "      <td>0</td>\n",
       "      <td>0</td>\n",
       "    </tr>\n",
       "    <tr>\n",
       "      <th>True, Edward</th>\n",
       "      <td>1.102024e+09</td>\n",
       "      <td>MA</td>\n",
       "      <td>2451.0</td>\n",
       "      <td>6/14/83</td>\n",
       "      <td>34.0</td>\n",
       "      <td>Male</td>\n",
       "      <td>Single</td>\n",
       "      <td>Non-Citizen</td>\n",
       "      <td>No</td>\n",
       "      <td>Black or African American</td>\n",
       "      <td>...</td>\n",
       "      <td>45.42</td>\n",
       "      <td>Alex Sweetwater</td>\n",
       "      <td>Diversity Job Fair</td>\n",
       "      <td>0</td>\n",
       "      <td>0</td>\n",
       "      <td>0</td>\n",
       "      <td>1</td>\n",
       "      <td>0</td>\n",
       "      <td>0</td>\n",
       "      <td>0</td>\n",
       "    </tr>\n",
       "    <tr>\n",
       "      <th>Sweetwater, Alex</th>\n",
       "      <td>1.001645e+09</td>\n",
       "      <td>MA</td>\n",
       "      <td>2184.0</td>\n",
       "      <td>11/22/66</td>\n",
       "      <td>51.0</td>\n",
       "      <td>Male</td>\n",
       "      <td>Single</td>\n",
       "      <td>US Citizen</td>\n",
       "      <td>No</td>\n",
       "      <td>White</td>\n",
       "      <td>...</td>\n",
       "      <td>27.00</td>\n",
       "      <td>Jennifer Zamora</td>\n",
       "      <td>Search Engine - Google Bing Yahoo</td>\n",
       "      <td>0</td>\n",
       "      <td>0</td>\n",
       "      <td>0</td>\n",
       "      <td>1</td>\n",
       "      <td>0</td>\n",
       "      <td>0</td>\n",
       "      <td>0</td>\n",
       "    </tr>\n",
       "    <tr>\n",
       "      <th>NaN</th>\n",
       "      <td>NaN</td>\n",
       "      <td>NaN</td>\n",
       "      <td>NaN</td>\n",
       "      <td>NaN</td>\n",
       "      <td>NaN</td>\n",
       "      <td>NaN</td>\n",
       "      <td>NaN</td>\n",
       "      <td>NaN</td>\n",
       "      <td>NaN</td>\n",
       "      <td>NaN</td>\n",
       "      <td>...</td>\n",
       "      <td>NaN</td>\n",
       "      <td>NaN</td>\n",
       "      <td>NaN</td>\n",
       "      <td>0</td>\n",
       "      <td>0</td>\n",
       "      <td>0</td>\n",
       "      <td>0</td>\n",
       "      <td>0</td>\n",
       "      <td>0</td>\n",
       "      <td>0</td>\n",
       "    </tr>\n",
       "  </tbody>\n",
       "</table>\n",
       "<p>302 rows × 26 columns</p>\n",
       "</div>"
      ],
      "text/plain": [
       "                      Employee Number State     Zip       DOB   Age     Sex  \\\n",
       "Employee Name                                                                 \n",
       "Brown, Mia               1.103024e+09    MA  1450.0  11/24/85  32.0  Female   \n",
       "LaRotonda, William       1.106027e+09    MA  1460.0   4/26/84  33.0    Male   \n",
       "Steans, Tyrone           1.302053e+09    MA  2703.0    9/1/86  31.0    Male   \n",
       "Howard, Estelle          1.211051e+09    MA  2170.0   9/16/85  32.0  Female   \n",
       "Singh, Nan               1.307060e+09    MA  2330.0   5/19/88  29.0  Female   \n",
       "...                               ...   ...     ...       ...   ...     ...   \n",
       "Saada, Adell             1.012023e+09    MA  2132.0   7/24/86  31.0  Female   \n",
       "Szabo, Andrew            1.201031e+09    MA  2140.0    5/6/83  34.0    Male   \n",
       "True, Edward             1.102024e+09    MA  2451.0   6/14/83  34.0    Male   \n",
       "Sweetwater, Alex         1.001645e+09    MA  2184.0  11/22/66  51.0    Male   \n",
       "NaN                               NaN   NaN     NaN       NaN   NaN     NaN   \n",
       "\n",
       "                     MaritalDesc  CitizenDesc Hispanic/Latino  \\\n",
       "Employee Name                                                   \n",
       "Brown, Mia               Married   US Citizen              No   \n",
       "LaRotonda, William      Divorced   US Citizen              No   \n",
       "Steans, Tyrone            Single   US Citizen              No   \n",
       "Howard, Estelle          Married   US Citizen              No   \n",
       "Singh, Nan                Single   US Citizen              No   \n",
       "...                          ...          ...             ...   \n",
       "Saada, Adell             Married   US Citizen              No   \n",
       "Szabo, Andrew             Single   US Citizen              No   \n",
       "True, Edward              Single  Non-Citizen              No   \n",
       "Sweetwater, Alex          Single   US Citizen              No   \n",
       "NaN                          NaN          NaN             NaN   \n",
       "\n",
       "                                       RaceDesc  ... Pay Rate  \\\n",
       "Employee Name                                    ...            \n",
       "Brown, Mia            Black or African American  ...    28.50   \n",
       "LaRotonda, William    Black or African American  ...    23.00   \n",
       "Steans, Tyrone                            White  ...    29.00   \n",
       "Howard, Estelle                           White  ...    21.50   \n",
       "Singh, Nan                                White  ...    16.56   \n",
       "...                                         ...  ...      ...   \n",
       "Saada, Adell                              White  ...    49.25   \n",
       "Szabo, Andrew                             White  ...    48.00   \n",
       "True, Edward          Black or African American  ...    45.42   \n",
       "Sweetwater, Alex                          White  ...    27.00   \n",
       "NaN                                         NaN  ...      NaN   \n",
       "\n",
       "                            Manager Name                    Employee Source  \\\n",
       "Employee Name                                                                 \n",
       "Brown, Mia            Brandon R. LeBlanc                 Diversity Job Fair   \n",
       "LaRotonda, William    Brandon R. LeBlanc                 Website Banner Ads   \n",
       "Steans, Tyrone        Brandon R. LeBlanc                    Internet Search   \n",
       "Howard, Estelle       Brandon R. LeBlanc             Pay Per Click - Google   \n",
       "Singh, Nan            Brandon R. LeBlanc                 Website Banner Ads   \n",
       "...                                  ...                                ...   \n",
       "Saada, Adell             Alex Sweetwater             Pay Per Click - Google   \n",
       "Szabo, Andrew            Alex Sweetwater                           MBTA ads   \n",
       "True, Edward             Alex Sweetwater                 Diversity Job Fair   \n",
       "Sweetwater, Alex         Jennifer Zamora  Search Engine - Google Bing Yahoo   \n",
       "NaN                                  NaN                                NaN   \n",
       "\n",
       "                     Performance Score_90-day meets Performance Score_Exceeds  \\\n",
       "Employee Name                                                                   \n",
       "Brown, Mia                                        0                         0   \n",
       "LaRotonda, William                                0                         0   \n",
       "Steans, Tyrone                                    0                         0   \n",
       "Howard, Estelle                                   0                         0   \n",
       "Singh, Nan                                        0                         0   \n",
       "...                                             ...                       ...   \n",
       "Saada, Adell                                      0                         0   \n",
       "Szabo, Andrew                                     0                         0   \n",
       "True, Edward                                      0                         0   \n",
       "Sweetwater, Alex                                  0                         0   \n",
       "NaN                                               0                         0   \n",
       "\n",
       "                     Performance Score_Exceptional  \\\n",
       "Employee Name                                        \n",
       "Brown, Mia                                       0   \n",
       "LaRotonda, William                               0   \n",
       "Steans, Tyrone                                   0   \n",
       "Howard, Estelle                                  0   \n",
       "Singh, Nan                                       0   \n",
       "...                                            ...   \n",
       "Saada, Adell                                     0   \n",
       "Szabo, Andrew                                    1   \n",
       "True, Edward                                     0   \n",
       "Sweetwater, Alex                                 0   \n",
       "NaN                                              0   \n",
       "\n",
       "                      Performance Score_Fully Meets  \\\n",
       "Employee Name                                         \n",
       "Brown, Mia                                        1   \n",
       "LaRotonda, William                                1   \n",
       "Steans, Tyrone                                    1   \n",
       "Howard, Estelle                                   0   \n",
       "Singh, Nan                                        0   \n",
       "...                                             ...   \n",
       "Saada, Adell                                      1   \n",
       "Szabo, Andrew                                     0   \n",
       "True, Edward                                      1   \n",
       "Sweetwater, Alex                                  1   \n",
       "NaN                                               0   \n",
       "\n",
       "                     Performance Score_N/A- too early to review  \\\n",
       "Employee Name                                                     \n",
       "Brown, Mia                                                    0   \n",
       "LaRotonda, William                                            0   \n",
       "Steans, Tyrone                                                0   \n",
       "Howard, Estelle                                               1   \n",
       "Singh, Nan                                                    1   \n",
       "...                                                         ...   \n",
       "Saada, Adell                                                  0   \n",
       "Szabo, Andrew                                                 0   \n",
       "True, Edward                                                  0   \n",
       "Sweetwater, Alex                                              0   \n",
       "NaN                                                           0   \n",
       "\n",
       "                     Performance Score_Needs Improvement  \\\n",
       "Employee Name                                              \n",
       "Brown, Mia                                             0   \n",
       "LaRotonda, William                                     0   \n",
       "Steans, Tyrone                                         0   \n",
       "Howard, Estelle                                        0   \n",
       "Singh, Nan                                             0   \n",
       "...                                                  ...   \n",
       "Saada, Adell                                           0   \n",
       "Szabo, Andrew                                          0   \n",
       "True, Edward                                           0   \n",
       "Sweetwater, Alex                                       0   \n",
       "NaN                                                    0   \n",
       "\n",
       "                      Performance Score_PIP  \n",
       "Employee Name                                \n",
       "Brown, Mia                                0  \n",
       "LaRotonda, William                        0  \n",
       "Steans, Tyrone                            0  \n",
       "Howard, Estelle                           0  \n",
       "Singh, Nan                                0  \n",
       "...                                     ...  \n",
       "Saada, Adell                              0  \n",
       "Szabo, Andrew                             0  \n",
       "True, Edward                              0  \n",
       "Sweetwater, Alex                          0  \n",
       "NaN                                       0  \n",
       "\n",
       "[302 rows x 26 columns]"
      ]
     },
     "execution_count": 221,
     "metadata": {},
     "output_type": "execute_result"
    }
   ],
   "source": [
    "data = data.set_index('Employee Name')\n",
    "data = pd.get_dummies(data, columns = ['Performance Score'])\n",
    "data"
   ]
  },
  {
   "cell_type": "code",
   "execution_count": 222,
   "metadata": {},
   "outputs": [
    {
     "data": {
      "text/plain": [
       "['Employee Number',\n",
       " 'State',\n",
       " 'Zip',\n",
       " 'DOB',\n",
       " 'Age',\n",
       " 'Sex',\n",
       " 'MaritalDesc',\n",
       " 'CitizenDesc',\n",
       " 'Hispanic/Latino',\n",
       " 'RaceDesc',\n",
       " 'Date of Hire',\n",
       " 'Date of Termination',\n",
       " 'Reason For Term',\n",
       " 'Employment Status',\n",
       " 'Department',\n",
       " 'Position',\n",
       " 'Pay Rate',\n",
       " 'Manager Name',\n",
       " 'Employee Source',\n",
       " 'Performance Score_90-day meets',\n",
       " 'Performance Score_Exceeds',\n",
       " 'Performance Score_Exceptional',\n",
       " 'Performance Score_Fully Meets',\n",
       " 'Performance Score_N/A- too early to review',\n",
       " 'Performance Score_Needs Improvement',\n",
       " 'Performance Score_PIP']"
      ]
     },
     "execution_count": 222,
     "metadata": {},
     "output_type": "execute_result"
    }
   ],
   "source": [
    "list(data.columns)"
   ]
  },
  {
   "cell_type": "code",
   "execution_count": null,
   "metadata": {},
   "outputs": [],
   "source": []
  },
  {
   "cell_type": "markdown",
   "metadata": {},
   "source": [
    "# Heatmap"
   ]
  },
  {
   "cell_type": "code",
   "execution_count": 419,
   "metadata": {},
   "outputs": [],
   "source": [
    "full_df = pd.read_csv('datafiles/HR_dataset.csv', index_col=0)\n",
    "perf_score = pd.DataFrame(full_df['Performance Score'])\n",
    "manager_list = pd.DataFrame(full_df['Manager Name'])\n",
    "manager_performances = pd.concat([perf_score,manager_list], axis=1)"
   ]
  },
  {
   "cell_type": "code",
   "execution_count": 420,
   "metadata": {},
   "outputs": [],
   "source": [
    "manager_performances.columns=['performance','manager']"
   ]
  },
  {
   "cell_type": "code",
   "execution_count": 421,
   "metadata": {},
   "outputs": [
    {
     "data": {
      "text/plain": [
       "Kissy Sullivan        22\n",
       "Kelley Spirea         22\n",
       "Michael Albert        22\n",
       "Elijiah Gray          22\n",
       "Amy Dunn              21\n",
       "Webster Butler        21\n",
       "Brannon Miller        21\n",
       "David Stanley         21\n",
       "Ketsia Liebig         21\n",
       "Janet King            19\n",
       "Simon Roup            17\n",
       "Peter Monroe          14\n",
       "John Smith            14\n",
       "Lynn Daneault         13\n",
       "Alex Sweetwater        9\n",
       "Brandon R. LeBlanc     7\n",
       "Jennifer Zamora        6\n",
       "Eric Dougall           4\n",
       "Debra Houlihan         3\n",
       "Board of Directors     2\n",
       "Name: manager, dtype: int64"
      ]
     },
     "execution_count": 421,
     "metadata": {},
     "output_type": "execute_result"
    }
   ],
   "source": [
    "manager_performances['manager'].value_counts()"
   ]
  },
  {
   "cell_type": "code",
   "execution_count": 422,
   "metadata": {},
   "outputs": [],
   "source": [
    "df1 = pd.get_dummies(manager_performances, columns = ['manager'], drop_first=True )\n",
    "#Alex Sweetwater was dropped "
   ]
  },
  {
   "cell_type": "code",
   "execution_count": 424,
   "metadata": {},
   "outputs": [],
   "source": [
    "# df1 = df1.groupby('performance')"
   ]
  },
  {
   "cell_type": "code",
   "execution_count": 425,
   "metadata": {},
   "outputs": [],
   "source": [
    "df1_corr = df1.corr()\n",
    "df1_corr = df1_corr.fillna(0)"
   ]
  },
  {
   "cell_type": "code",
   "execution_count": 426,
   "metadata": {},
   "outputs": [
    {
     "data": {
      "text/plain": [
       "array(['Fully Meets', 'N/A- too early to review', '90-day meets',\n",
       "       'Exceptional', 'Needs Improvement', 'Exceeds', 'PIP', nan],\n",
       "      dtype=object)"
      ]
     },
     "execution_count": 426,
     "metadata": {},
     "output_type": "execute_result"
    }
   ],
   "source": [
    "df1['performance'].unique()"
   ]
  },
  {
   "cell_type": "code",
   "execution_count": 427,
   "metadata": {},
   "outputs": [],
   "source": [
    "df1['performance'] = df1['performance'].replace(['Fully Meets',\n",
    "                                                 'N/A- too early to review',\n",
    "                                                 '90-day meets','Exceptional', \n",
    "                                                 'Needs Improvement',\n",
    "                                                 'Exceeds', \n",
    "                                                 'PIP'],\n",
    "                                                ['fully_meets','too_early',\n",
    "                                                'ninety_day', 'exceptional',\n",
    "                                                'needs_improvement',\n",
    "                                                 'exceeds',\n",
    "                                                'pip'])\n",
    "# df1['performance'] = df1['performance'].replace('Fully Meets','fully_meets')"
   ]
  },
  {
   "cell_type": "code",
   "execution_count": 428,
   "metadata": {},
   "outputs": [
    {
     "data": {
      "text/html": [
       "<div>\n",
       "<style scoped>\n",
       "    .dataframe tbody tr th:only-of-type {\n",
       "        vertical-align: middle;\n",
       "    }\n",
       "\n",
       "    .dataframe tbody tr th {\n",
       "        vertical-align: top;\n",
       "    }\n",
       "\n",
       "    .dataframe thead th {\n",
       "        text-align: right;\n",
       "    }\n",
       "</style>\n",
       "<table border=\"1\" class=\"dataframe\">\n",
       "  <thead>\n",
       "    <tr style=\"text-align: right;\">\n",
       "      <th></th>\n",
       "      <th>performance</th>\n",
       "      <th>manager_Amy Dunn</th>\n",
       "      <th>manager_Board of Directors</th>\n",
       "      <th>manager_Brandon R. LeBlanc</th>\n",
       "      <th>manager_Brannon Miller</th>\n",
       "      <th>manager_David Stanley</th>\n",
       "      <th>manager_Debra Houlihan</th>\n",
       "      <th>manager_Elijiah Gray</th>\n",
       "      <th>manager_Eric Dougall</th>\n",
       "      <th>manager_Janet King</th>\n",
       "      <th>manager_Jennifer Zamora</th>\n",
       "      <th>manager_John Smith</th>\n",
       "      <th>manager_Kelley Spirea</th>\n",
       "      <th>manager_Ketsia Liebig</th>\n",
       "      <th>manager_Kissy Sullivan</th>\n",
       "      <th>manager_Lynn Daneault</th>\n",
       "      <th>manager_Michael Albert</th>\n",
       "      <th>manager_Peter Monroe</th>\n",
       "      <th>manager_Simon Roup</th>\n",
       "      <th>manager_Webster Butler</th>\n",
       "    </tr>\n",
       "    <tr>\n",
       "      <th>Employee Name</th>\n",
       "      <th></th>\n",
       "      <th></th>\n",
       "      <th></th>\n",
       "      <th></th>\n",
       "      <th></th>\n",
       "      <th></th>\n",
       "      <th></th>\n",
       "      <th></th>\n",
       "      <th></th>\n",
       "      <th></th>\n",
       "      <th></th>\n",
       "      <th></th>\n",
       "      <th></th>\n",
       "      <th></th>\n",
       "      <th></th>\n",
       "      <th></th>\n",
       "      <th></th>\n",
       "      <th></th>\n",
       "      <th></th>\n",
       "      <th></th>\n",
       "    </tr>\n",
       "  </thead>\n",
       "  <tbody>\n",
       "    <tr>\n",
       "      <th>Brown, Mia</th>\n",
       "      <td>fully_meets</td>\n",
       "      <td>0</td>\n",
       "      <td>0</td>\n",
       "      <td>1</td>\n",
       "      <td>0</td>\n",
       "      <td>0</td>\n",
       "      <td>0</td>\n",
       "      <td>0</td>\n",
       "      <td>0</td>\n",
       "      <td>0</td>\n",
       "      <td>0</td>\n",
       "      <td>0</td>\n",
       "      <td>0</td>\n",
       "      <td>0</td>\n",
       "      <td>0</td>\n",
       "      <td>0</td>\n",
       "      <td>0</td>\n",
       "      <td>0</td>\n",
       "      <td>0</td>\n",
       "      <td>0</td>\n",
       "    </tr>\n",
       "    <tr>\n",
       "      <th>LaRotonda, William</th>\n",
       "      <td>fully_meets</td>\n",
       "      <td>0</td>\n",
       "      <td>0</td>\n",
       "      <td>1</td>\n",
       "      <td>0</td>\n",
       "      <td>0</td>\n",
       "      <td>0</td>\n",
       "      <td>0</td>\n",
       "      <td>0</td>\n",
       "      <td>0</td>\n",
       "      <td>0</td>\n",
       "      <td>0</td>\n",
       "      <td>0</td>\n",
       "      <td>0</td>\n",
       "      <td>0</td>\n",
       "      <td>0</td>\n",
       "      <td>0</td>\n",
       "      <td>0</td>\n",
       "      <td>0</td>\n",
       "      <td>0</td>\n",
       "    </tr>\n",
       "    <tr>\n",
       "      <th>Steans, Tyrone</th>\n",
       "      <td>fully_meets</td>\n",
       "      <td>0</td>\n",
       "      <td>0</td>\n",
       "      <td>1</td>\n",
       "      <td>0</td>\n",
       "      <td>0</td>\n",
       "      <td>0</td>\n",
       "      <td>0</td>\n",
       "      <td>0</td>\n",
       "      <td>0</td>\n",
       "      <td>0</td>\n",
       "      <td>0</td>\n",
       "      <td>0</td>\n",
       "      <td>0</td>\n",
       "      <td>0</td>\n",
       "      <td>0</td>\n",
       "      <td>0</td>\n",
       "      <td>0</td>\n",
       "      <td>0</td>\n",
       "      <td>0</td>\n",
       "    </tr>\n",
       "    <tr>\n",
       "      <th>Howard, Estelle</th>\n",
       "      <td>too_early</td>\n",
       "      <td>0</td>\n",
       "      <td>0</td>\n",
       "      <td>1</td>\n",
       "      <td>0</td>\n",
       "      <td>0</td>\n",
       "      <td>0</td>\n",
       "      <td>0</td>\n",
       "      <td>0</td>\n",
       "      <td>0</td>\n",
       "      <td>0</td>\n",
       "      <td>0</td>\n",
       "      <td>0</td>\n",
       "      <td>0</td>\n",
       "      <td>0</td>\n",
       "      <td>0</td>\n",
       "      <td>0</td>\n",
       "      <td>0</td>\n",
       "      <td>0</td>\n",
       "      <td>0</td>\n",
       "    </tr>\n",
       "    <tr>\n",
       "      <th>Singh, Nan</th>\n",
       "      <td>too_early</td>\n",
       "      <td>0</td>\n",
       "      <td>0</td>\n",
       "      <td>1</td>\n",
       "      <td>0</td>\n",
       "      <td>0</td>\n",
       "      <td>0</td>\n",
       "      <td>0</td>\n",
       "      <td>0</td>\n",
       "      <td>0</td>\n",
       "      <td>0</td>\n",
       "      <td>0</td>\n",
       "      <td>0</td>\n",
       "      <td>0</td>\n",
       "      <td>0</td>\n",
       "      <td>0</td>\n",
       "      <td>0</td>\n",
       "      <td>0</td>\n",
       "      <td>0</td>\n",
       "      <td>0</td>\n",
       "    </tr>\n",
       "    <tr>\n",
       "      <th>...</th>\n",
       "      <td>...</td>\n",
       "      <td>...</td>\n",
       "      <td>...</td>\n",
       "      <td>...</td>\n",
       "      <td>...</td>\n",
       "      <td>...</td>\n",
       "      <td>...</td>\n",
       "      <td>...</td>\n",
       "      <td>...</td>\n",
       "      <td>...</td>\n",
       "      <td>...</td>\n",
       "      <td>...</td>\n",
       "      <td>...</td>\n",
       "      <td>...</td>\n",
       "      <td>...</td>\n",
       "      <td>...</td>\n",
       "      <td>...</td>\n",
       "      <td>...</td>\n",
       "      <td>...</td>\n",
       "      <td>...</td>\n",
       "    </tr>\n",
       "    <tr>\n",
       "      <th>Saada, Adell</th>\n",
       "      <td>fully_meets</td>\n",
       "      <td>0</td>\n",
       "      <td>0</td>\n",
       "      <td>0</td>\n",
       "      <td>0</td>\n",
       "      <td>0</td>\n",
       "      <td>0</td>\n",
       "      <td>0</td>\n",
       "      <td>0</td>\n",
       "      <td>0</td>\n",
       "      <td>0</td>\n",
       "      <td>0</td>\n",
       "      <td>0</td>\n",
       "      <td>0</td>\n",
       "      <td>0</td>\n",
       "      <td>0</td>\n",
       "      <td>0</td>\n",
       "      <td>0</td>\n",
       "      <td>0</td>\n",
       "      <td>0</td>\n",
       "    </tr>\n",
       "    <tr>\n",
       "      <th>Szabo, Andrew</th>\n",
       "      <td>exceptional</td>\n",
       "      <td>0</td>\n",
       "      <td>0</td>\n",
       "      <td>0</td>\n",
       "      <td>0</td>\n",
       "      <td>0</td>\n",
       "      <td>0</td>\n",
       "      <td>0</td>\n",
       "      <td>0</td>\n",
       "      <td>0</td>\n",
       "      <td>0</td>\n",
       "      <td>0</td>\n",
       "      <td>0</td>\n",
       "      <td>0</td>\n",
       "      <td>0</td>\n",
       "      <td>0</td>\n",
       "      <td>0</td>\n",
       "      <td>0</td>\n",
       "      <td>0</td>\n",
       "      <td>0</td>\n",
       "    </tr>\n",
       "    <tr>\n",
       "      <th>True, Edward</th>\n",
       "      <td>fully_meets</td>\n",
       "      <td>0</td>\n",
       "      <td>0</td>\n",
       "      <td>0</td>\n",
       "      <td>0</td>\n",
       "      <td>0</td>\n",
       "      <td>0</td>\n",
       "      <td>0</td>\n",
       "      <td>0</td>\n",
       "      <td>0</td>\n",
       "      <td>0</td>\n",
       "      <td>0</td>\n",
       "      <td>0</td>\n",
       "      <td>0</td>\n",
       "      <td>0</td>\n",
       "      <td>0</td>\n",
       "      <td>0</td>\n",
       "      <td>0</td>\n",
       "      <td>0</td>\n",
       "      <td>0</td>\n",
       "    </tr>\n",
       "    <tr>\n",
       "      <th>Sweetwater, Alex</th>\n",
       "      <td>fully_meets</td>\n",
       "      <td>0</td>\n",
       "      <td>0</td>\n",
       "      <td>0</td>\n",
       "      <td>0</td>\n",
       "      <td>0</td>\n",
       "      <td>0</td>\n",
       "      <td>0</td>\n",
       "      <td>0</td>\n",
       "      <td>0</td>\n",
       "      <td>1</td>\n",
       "      <td>0</td>\n",
       "      <td>0</td>\n",
       "      <td>0</td>\n",
       "      <td>0</td>\n",
       "      <td>0</td>\n",
       "      <td>0</td>\n",
       "      <td>0</td>\n",
       "      <td>0</td>\n",
       "      <td>0</td>\n",
       "    </tr>\n",
       "    <tr>\n",
       "      <th>NaN</th>\n",
       "      <td>NaN</td>\n",
       "      <td>0</td>\n",
       "      <td>0</td>\n",
       "      <td>0</td>\n",
       "      <td>0</td>\n",
       "      <td>0</td>\n",
       "      <td>0</td>\n",
       "      <td>0</td>\n",
       "      <td>0</td>\n",
       "      <td>0</td>\n",
       "      <td>0</td>\n",
       "      <td>0</td>\n",
       "      <td>0</td>\n",
       "      <td>0</td>\n",
       "      <td>0</td>\n",
       "      <td>0</td>\n",
       "      <td>0</td>\n",
       "      <td>0</td>\n",
       "      <td>0</td>\n",
       "      <td>0</td>\n",
       "    </tr>\n",
       "  </tbody>\n",
       "</table>\n",
       "<p>302 rows × 20 columns</p>\n",
       "</div>"
      ],
      "text/plain": [
       "                      performance  manager_Amy Dunn  \\\n",
       "Employee Name                                         \n",
       "Brown, Mia            fully_meets                 0   \n",
       "LaRotonda, William    fully_meets                 0   \n",
       "Steans, Tyrone        fully_meets                 0   \n",
       "Howard, Estelle         too_early                 0   \n",
       "Singh, Nan              too_early                 0   \n",
       "...                           ...               ...   \n",
       "Saada, Adell          fully_meets                 0   \n",
       "Szabo, Andrew         exceptional                 0   \n",
       "True, Edward          fully_meets                 0   \n",
       "Sweetwater, Alex      fully_meets                 0   \n",
       "NaN                           NaN                 0   \n",
       "\n",
       "                      manager_Board of Directors  manager_Brandon R. LeBlanc  \\\n",
       "Employee Name                                                                  \n",
       "Brown, Mia                                     0                           1   \n",
       "LaRotonda, William                             0                           1   \n",
       "Steans, Tyrone                                 0                           1   \n",
       "Howard, Estelle                                0                           1   \n",
       "Singh, Nan                                     0                           1   \n",
       "...                                          ...                         ...   \n",
       "Saada, Adell                                   0                           0   \n",
       "Szabo, Andrew                                  0                           0   \n",
       "True, Edward                                   0                           0   \n",
       "Sweetwater, Alex                               0                           0   \n",
       "NaN                                            0                           0   \n",
       "\n",
       "                      manager_Brannon Miller  manager_David Stanley  \\\n",
       "Employee Name                                                         \n",
       "Brown, Mia                                 0                      0   \n",
       "LaRotonda, William                         0                      0   \n",
       "Steans, Tyrone                             0                      0   \n",
       "Howard, Estelle                            0                      0   \n",
       "Singh, Nan                                 0                      0   \n",
       "...                                      ...                    ...   \n",
       "Saada, Adell                               0                      0   \n",
       "Szabo, Andrew                              0                      0   \n",
       "True, Edward                               0                      0   \n",
       "Sweetwater, Alex                           0                      0   \n",
       "NaN                                        0                      0   \n",
       "\n",
       "                      manager_Debra Houlihan  manager_Elijiah Gray  \\\n",
       "Employee Name                                                        \n",
       "Brown, Mia                                 0                     0   \n",
       "LaRotonda, William                         0                     0   \n",
       "Steans, Tyrone                             0                     0   \n",
       "Howard, Estelle                            0                     0   \n",
       "Singh, Nan                                 0                     0   \n",
       "...                                      ...                   ...   \n",
       "Saada, Adell                               0                     0   \n",
       "Szabo, Andrew                              0                     0   \n",
       "True, Edward                               0                     0   \n",
       "Sweetwater, Alex                           0                     0   \n",
       "NaN                                        0                     0   \n",
       "\n",
       "                      manager_Eric Dougall  manager_Janet King  \\\n",
       "Employee Name                                                    \n",
       "Brown, Mia                               0                   0   \n",
       "LaRotonda, William                       0                   0   \n",
       "Steans, Tyrone                           0                   0   \n",
       "Howard, Estelle                          0                   0   \n",
       "Singh, Nan                               0                   0   \n",
       "...                                    ...                 ...   \n",
       "Saada, Adell                             0                   0   \n",
       "Szabo, Andrew                            0                   0   \n",
       "True, Edward                             0                   0   \n",
       "Sweetwater, Alex                         0                   0   \n",
       "NaN                                      0                   0   \n",
       "\n",
       "                      manager_Jennifer Zamora  manager_John Smith  \\\n",
       "Employee Name                                                       \n",
       "Brown, Mia                                  0                   0   \n",
       "LaRotonda, William                          0                   0   \n",
       "Steans, Tyrone                              0                   0   \n",
       "Howard, Estelle                             0                   0   \n",
       "Singh, Nan                                  0                   0   \n",
       "...                                       ...                 ...   \n",
       "Saada, Adell                                0                   0   \n",
       "Szabo, Andrew                               0                   0   \n",
       "True, Edward                                0                   0   \n",
       "Sweetwater, Alex                            1                   0   \n",
       "NaN                                         0                   0   \n",
       "\n",
       "                      manager_Kelley Spirea  manager_Ketsia Liebig  \\\n",
       "Employee Name                                                        \n",
       "Brown, Mia                                0                      0   \n",
       "LaRotonda, William                        0                      0   \n",
       "Steans, Tyrone                            0                      0   \n",
       "Howard, Estelle                           0                      0   \n",
       "Singh, Nan                                0                      0   \n",
       "...                                     ...                    ...   \n",
       "Saada, Adell                              0                      0   \n",
       "Szabo, Andrew                             0                      0   \n",
       "True, Edward                              0                      0   \n",
       "Sweetwater, Alex                          0                      0   \n",
       "NaN                                       0                      0   \n",
       "\n",
       "                      manager_Kissy Sullivan  manager_Lynn Daneault  \\\n",
       "Employee Name                                                         \n",
       "Brown, Mia                                 0                      0   \n",
       "LaRotonda, William                         0                      0   \n",
       "Steans, Tyrone                             0                      0   \n",
       "Howard, Estelle                            0                      0   \n",
       "Singh, Nan                                 0                      0   \n",
       "...                                      ...                    ...   \n",
       "Saada, Adell                               0                      0   \n",
       "Szabo, Andrew                              0                      0   \n",
       "True, Edward                               0                      0   \n",
       "Sweetwater, Alex                           0                      0   \n",
       "NaN                                        0                      0   \n",
       "\n",
       "                      manager_Michael Albert  manager_Peter Monroe  \\\n",
       "Employee Name                                                        \n",
       "Brown, Mia                                 0                     0   \n",
       "LaRotonda, William                         0                     0   \n",
       "Steans, Tyrone                             0                     0   \n",
       "Howard, Estelle                            0                     0   \n",
       "Singh, Nan                                 0                     0   \n",
       "...                                      ...                   ...   \n",
       "Saada, Adell                               0                     0   \n",
       "Szabo, Andrew                              0                     0   \n",
       "True, Edward                               0                     0   \n",
       "Sweetwater, Alex                           0                     0   \n",
       "NaN                                        0                     0   \n",
       "\n",
       "                      manager_Simon Roup  manager_Webster Butler  \n",
       "Employee Name                                                     \n",
       "Brown, Mia                             0                       0  \n",
       "LaRotonda, William                     0                       0  \n",
       "Steans, Tyrone                         0                       0  \n",
       "Howard, Estelle                        0                       0  \n",
       "Singh, Nan                             0                       0  \n",
       "...                                  ...                     ...  \n",
       "Saada, Adell                           0                       0  \n",
       "Szabo, Andrew                          0                       0  \n",
       "True, Edward                           0                       0  \n",
       "Sweetwater, Alex                       0                       0  \n",
       "NaN                                    0                       0  \n",
       "\n",
       "[302 rows x 20 columns]"
      ]
     },
     "execution_count": 428,
     "metadata": {},
     "output_type": "execute_result"
    }
   ],
   "source": [
    "df1"
   ]
  },
  {
   "cell_type": "code",
   "execution_count": 429,
   "metadata": {},
   "outputs": [],
   "source": [
    "df1 = pd.get_dummies(df1, columns = ['performance'], drop_first=True )\n",
    "#exceeds was dropped "
   ]
  },
  {
   "cell_type": "code",
   "execution_count": 443,
   "metadata": {},
   "outputs": [],
   "source": [
    "df_corr = df1.corr()"
   ]
  },
  {
   "cell_type": "code",
   "execution_count": 462,
   "metadata": {},
   "outputs": [
    {
     "data": {
      "text/plain": [
       "<matplotlib.axes._subplots.AxesSubplot at 0x135df3ca0>"
      ]
     },
     "execution_count": 462,
     "metadata": {},
     "output_type": "execute_result"
    },
    {
     "data": {
      "image/png": "[encoded data removed]",
      "text/plain": [
       "<Figure size 432x288 with 2 Axes>"
      ]
     },
     "metadata": {
      "needs_background": "light"
     },
     "output_type": "display_data"
    }
   ],
   "source": [
    "sns.heatmap(df_corr)"
   ]
  },
  {
   "cell_type": "markdown",
   "metadata": {},
   "source": [
    "**Variance** - measure of dispersion of continuous random variables from its expected mean value\n",
    "\n",
    "**Covariance** - when trying to figure out how two random variables vary together\n",
    "- A **positive** covariance indicates that two variables are positively related\n",
    "- A **negative** covariance indicates that two variables are inversely related\n",
    "- A covariance **equal or close to 0** indicates that there is no linear relationship between two variables\n",
    "\n",
    "**Correlation** is calculated by standardizing covariance by some measure of variability in the data, it produces a quantity that has intuitive interpretations and consistent scale.\n",
    "- **Pearson Correlation Coefficient**,  𝑟 , also called the linear correlation coefficient, measures the strength and the direction of a linear relationship between two variables. This coefficient quantifies the degree to which a relationship between two variables can be described by a line.\n"
   ]
  },
  {
   "cell_type": "markdown",
   "metadata": {},
   "source": [
    "**1. Mean normalized**"
   ]
  },
  {
   "cell_type": "code",
   "execution_count": 37,
   "metadata": {},
   "outputs": [],
   "source": [
    "# Write a function to take in an iterable, calculate the mean and subtract the mean value\n",
    "# from each element, creating and returning a new list. \n",
    "def mean_normalize(var):\n",
    "    norm = [] # Vector for storing output values \n",
    "    mean = sum(var)/len(var)   \n",
    "    for i in var: # for each element in the vector, subtract from mean and add the result to norm\n",
    "        diff = i - mean\n",
    "        norm.append(diff)\n",
    "    return norm"
   ]
  },
  {
   "cell_type": "code",
   "execution_count": 58,
   "metadata": {},
   "outputs": [
    {
     "data": {
      "text/plain": [
       "Text(0.5, 1.0, 'Age Normalized')"
      ]
     },
     "execution_count": 58,
     "metadata": {},
     "output_type": "execute_result"
    },
    {
     "data": {
      "image/png": "[encoded data removed]",
      "text/plain": [
       "<Figure size 432x288 with 1 Axes>"
      ]
     },
     "metadata": {
      "needs_background": "light"
     },
     "output_type": "display_data"
    }
   ],
   "source": [
    "age_normalized = mean_normalize(hr_data['age'])\n",
    "# Visualize the age data distribution before and after mean normalization \n",
    "sns.distplot(age_normalized)\n",
    "sns.distplot(hr_data['age'])\n",
    "plt.title('Age Normalized')"
   ]
  },
  {
   "cell_type": "markdown",
   "metadata": {},
   "source": [
    "- Notice the shape of the data isn't changed, but the mean is just shifted (normalization process)"
   ]
  },
  {
   "cell_type": "code",
   "execution_count": 44,
   "metadata": {},
   "outputs": [
    {
     "data": {
      "text/plain": [
       "Text(0.5, 1.0, 'Pay Rate Normalized')"
      ]
     },
     "execution_count": 44,
     "metadata": {},
     "output_type": "execute_result"
    },
    {
     "data": {
      "image/png": "[encoded data removed]",
      "text/plain": [
       "<Figure size 432x288 with 1 Axes>"
      ]
     },
     "metadata": {
      "needs_background": "light"
     },
     "output_type": "display_data"
    }
   ],
   "source": [
    "pay_normalized = mean_normalize(hr_data['pay_rate'])\n",
    "# Visualize the PAY data distribution before and after mean normalization \n",
    "sns.distplot(pay_normalized)\n",
    "sns.distplot(hr_data['pay_rate'])\n",
    "plt.title('Pay Rate Normalized')"
   ]
  },
  {
   "cell_type": "code",
   "execution_count": 46,
   "metadata": {},
   "outputs": [],
   "source": [
    "# FUNCTION: dot product of two iterables \n",
    "def dot_product(x, y):\n",
    "    prod_vec = 0 # Initliaze an empty list to store the results \n",
    "    # For all elements in the vectors, multiply and save results in prod_vec\n",
    "    for i in range(len(x)):\n",
    "        prod = x[i]* y[i]\n",
    "        prod_vec += prod\n",
    "    return prod_vec"
   ]
  },
  {
   "cell_type": "code",
   "execution_count": 47,
   "metadata": {},
   "outputs": [],
   "source": [
    "def covariance(var1, var2):\n",
    "    # Formula for covariance is:\n",
    "    # [Sum (x_i - X)(y_i - Y)] / N-1 \n",
    "    # Sanity Check: Check to see if both vectors are of same length\n",
    "    # Exit the function if variables have different lengths\n",
    "    if len(var1) != len(var2):\n",
    "        return 'The lengths of both the lists should be equal.' \n",
    "    else: \n",
    "        # Mean normalize both variables \n",
    "        x = mean_normalize(var1)\n",
    "        y = mean_normalize(var2)\n",
    "        # Take the dot product of mean normalized variables\n",
    "        result = dot_product(x, y)\n",
    "        # divide the dot product by n-1    \n",
    "        return result /((len(var1)) - 1)"
   ]
  },
  {
   "cell_type": "code",
   "execution_count": 52,
   "metadata": {},
   "outputs": [
    {
     "data": {
      "text/plain": [
       "2.448728205128202"
      ]
     },
     "execution_count": 52,
     "metadata": {},
     "output_type": "execute_result"
    }
   ],
   "source": [
    "covariance(age_normalized,pay_normalized)"
   ]
  },
  {
   "cell_type": "code",
   "execution_count": 53,
   "metadata": {},
   "outputs": [
    {
     "data": {
      "text/plain": [
       "<matplotlib.collections.PathCollection at 0x123004d00>"
      ]
     },
     "execution_count": 53,
     "metadata": {},
     "output_type": "execute_result"
    },
    {
     "data": {
      "image/png": "[encoded data removed]",
      "text/plain": [
       "<Figure size 432x288 with 1 Axes>"
      ]
     },
     "metadata": {
      "needs_background": "light"
     },
     "output_type": "display_data"
    }
   ],
   "source": [
    "plt.scatter(age_normalized,pay_normalized)"
   ]
  },
  {
   "cell_type": "markdown",
   "metadata": {},
   "source": [
    "- you can see that there is no relationship between age and pay "
   ]
  },
  {
   "cell_type": "code",
   "execution_count": 59,
   "metadata": {},
   "outputs": [
    {
     "data": {
      "text/plain": [
       "0.02"
      ]
     },
     "execution_count": 59,
     "metadata": {},
     "output_type": "execute_result"
    }
   ],
   "source": [
    "# Calculate Correlation between two variables using formula above\n",
    "import math\n",
    "def correlation(var1, var2):  \n",
    "    if len(var1) != len(var2):\n",
    "        return 'The lengths of both the lists should be equal.' \n",
    "    else: \n",
    "       \n",
    "        mean_norm_var1 = mean_normalize(var1)\n",
    "        mean_norm_var2 = mean_normalize(var2)\n",
    "        var1_dot_var2 = dot_product(mean_norm_var1, mean_norm_var2)\n",
    "        var1_squared = [i * i for i in mean_norm_var1]\n",
    "        var2_squared = [i * i for i in mean_norm_var2]\n",
    "        return round(var1_dot_var2 / math.sqrt(sum(var1_squared) * sum(var2_squared)), 2)\n",
    "\n",
    "correlation(age_normalized,pay_normalized)"
   ]
  },
  {
   "cell_type": "code",
   "execution_count": 79,
   "metadata": {},
   "outputs": [
    {
     "data": {
      "text/html": [
       "<div>\n",
       "<style scoped>\n",
       "    .dataframe tbody tr th:only-of-type {\n",
       "        vertical-align: middle;\n",
       "    }\n",
       "\n",
       "    .dataframe tbody tr th {\n",
       "        vertical-align: top;\n",
       "    }\n",
       "\n",
       "    .dataframe thead th {\n",
       "        text-align: right;\n",
       "    }\n",
       "</style>\n",
       "<table border=\"1\" class=\"dataframe\">\n",
       "  <thead>\n",
       "    <tr style=\"text-align: right;\">\n",
       "      <th></th>\n",
       "      <th>pay_rate</th>\n",
       "      <th>age</th>\n",
       "    </tr>\n",
       "  </thead>\n",
       "  <tbody>\n",
       "    <tr>\n",
       "      <th>pay_rate</th>\n",
       "      <td>1.000000</td>\n",
       "      <td>0.017995</td>\n",
       "    </tr>\n",
       "    <tr>\n",
       "      <th>age</th>\n",
       "      <td>0.017995</td>\n",
       "      <td>1.000000</td>\n",
       "    </tr>\n",
       "  </tbody>\n",
       "</table>\n",
       "</div>"
      ],
      "text/plain": [
       "          pay_rate       age\n",
       "pay_rate  1.000000  0.017995\n",
       "age       0.017995  1.000000"
      ]
     },
     "execution_count": 79,
     "metadata": {},
     "output_type": "execute_result"
    }
   ],
   "source": [
    "# Check - LOW CORRELATION BETWEEN AGE AND PAY\n",
    "\n",
    "pay = hr_data['pay_rate']\n",
    "age = hr_data['age']\n",
    "pay_age = pd.concat([pay,age], axis = 1)\n",
    "pay_age.corr()"
   ]
  },
  {
   "cell_type": "code",
   "execution_count": null,
   "metadata": {},
   "outputs": [],
   "source": []
  },
  {
   "cell_type": "code",
   "execution_count": 85,
   "metadata": {},
   "outputs": [
    {
     "data": {
      "text/plain": [
       "Index(['Employee Name', 'Employee Number', 'State', 'Zip', 'DOB', 'Age', 'Sex',\n",
       "       'MaritalDesc', 'CitizenDesc', 'Hispanic/Latino', 'RaceDesc',\n",
       "       'Date of Hire', 'Date of Termination', 'Reason For Term',\n",
       "       'Employment Status', 'Department', 'Position', 'Pay Rate',\n",
       "       'Manager Name', 'Employee Source', 'Performance Score'],\n",
       "      dtype='object')"
      ]
     },
     "execution_count": 85,
     "metadata": {},
     "output_type": "execute_result"
    }
   ],
   "source": [
    "df1 = pd.read_csv('datafiles/HR_dataset.csv')\n",
    "df1.keys()"
   ]
  },
  {
   "cell_type": "markdown",
   "metadata": {},
   "source": [
    "# Multicolinearity"
   ]
  },
  {
   "cell_type": "code",
   "execution_count": 176,
   "metadata": {},
   "outputs": [],
   "source": [
    "data=data.drop(columns=['Date of Termination'])\n",
    "data = data.fillna(0)\n",
    "data.drop(data.tail(1).index,inplace=True)"
   ]
  },
  {
   "cell_type": "code",
   "execution_count": 177,
   "metadata": {},
   "outputs": [
    {
     "data": {
      "text/plain": [
       "Index(['Employee Number', 'State', 'Zip', 'DOB', 'Age', 'Sex', 'MaritalDesc',\n",
       "       'CitizenDesc', 'Hispanic/Latino', 'RaceDesc', 'Date of Hire',\n",
       "       'Reason For Term', 'Employment Status', 'Department', 'Position',\n",
       "       'Pay Rate', 'Manager Name', 'Employee Source',\n",
       "       'Performance Score_90-day meets', 'Performance Score_Exceeds',\n",
       "       'Performance Score_Exceptional', 'Performance Score_Fully Meets',\n",
       "       'Performance Score_N/A- too early to review',\n",
       "       'Performance Score_Needs Improvement', 'Performance Score_PIP'],\n",
       "      dtype='object')"
      ]
     },
     "execution_count": 177,
     "metadata": {},
     "output_type": "execute_result"
    }
   ],
   "source": [
    "data.keys()"
   ]
  },
  {
   "cell_type": "code",
   "execution_count": 178,
   "metadata": {},
   "outputs": [
    {
     "data": {
      "image/png": "[encoded data removed]",
      "text/plain": [
       "<Figure size 1152x216 with 5 Axes>"
      ]
     },
     "metadata": {
      "needs_background": "light"
     },
     "output_type": "display_data"
    }
   ],
   "source": [
    "fig, axes = plt.subplots(nrows=1, ncols=5, figsize=(16,3))\n",
    " \n",
    "for xcol, ax in zip(['Age','Performance Score_90-day meets', 'Performance Score_Exceeds','Performance Score_Exceptional', 'Performance Score_Fully Meets','Performance Score_N/A- too early to review','Performance Score_Needs Improvement', 'Performance Score_PIP'], axes):\n",
    "    data.plot(kind='scatter', x=xcol, y='Pay Rate', ax=ax, alpha=0.4, color='b')"
   ]
  },
  {
   "cell_type": "code",
   "execution_count": 179,
   "metadata": {},
   "outputs": [
    {
     "data": {
      "image/png": "[encoded data removed]",
      "text/plain": [
       "<Figure size 720x1008 with 12 Axes>"
      ]
     },
     "metadata": {
      "needs_background": "light"
     },
     "output_type": "display_data"
    }
   ],
   "source": [
    "import warnings\n",
    "warnings.filterwarnings('ignore')\n",
    "fig = plt.figure(figsize = (10,14))\n",
    "ax = fig.gca()\n",
    "data.hist(ax = ax);"
   ]
  },
  {
   "cell_type": "code",
   "execution_count": 180,
   "metadata": {},
   "outputs": [
    {
     "data": {
      "text/plain": [
       "Manager Name    20\n",
       "dtype: int64"
      ]
     },
     "execution_count": 180,
     "metadata": {},
     "output_type": "execute_result"
    }
   ],
   "source": [
    "data[['Manager Name']].nunique()"
   ]
  },
  {
   "cell_type": "code",
   "execution_count": 181,
   "metadata": {},
   "outputs": [
    {
     "data": {
      "text/plain": [
       "list"
      ]
     },
     "execution_count": 181,
     "metadata": {},
     "output_type": "execute_result"
    }
   ],
   "source": [
    "managers = list(data['Manager Name'].value_counts().keys())\n",
    "type(managers)"
   ]
  },
  {
   "cell_type": "code",
   "execution_count": 243,
   "metadata": {},
   "outputs": [],
   "source": [
    "perf_score = list(df1['Performance Score'].value_counts().keys())"
   ]
  },
  {
   "cell_type": "code",
   "execution_count": 182,
   "metadata": {},
   "outputs": [],
   "source": [
    "origin = list(data['Manager Name'].value_counts().keys())\n",
    "origin_series = pd.Series(origin)"
   ]
  },
  {
   "cell_type": "code",
   "execution_count": 183,
   "metadata": {},
   "outputs": [
    {
     "data": {
      "text/plain": [
       "0          Kelley Spirea\n",
       "1         Kissy Sullivan\n",
       "2         Michael Albert\n",
       "3           Elijiah Gray\n",
       "4               Amy Dunn\n",
       "5         Webster Butler\n",
       "6          Ketsia Liebig\n",
       "7          David Stanley\n",
       "8         Brannon Miller\n",
       "9             Janet King\n",
       "10            Simon Roup\n",
       "11            John Smith\n",
       "12          Peter Monroe\n",
       "13         Lynn Daneault\n",
       "14       Alex Sweetwater\n",
       "15    Brandon R. LeBlanc\n",
       "16       Jennifer Zamora\n",
       "17          Eric Dougall\n",
       "18        Debra Houlihan\n",
       "19    Board of Directors\n",
       "dtype: category\n",
       "Categories (20, object): [Alex Sweetwater, Amy Dunn, Board of Directors, Brandon R. LeBlanc, ..., Michael Albert, Peter Monroe, Simon Roup, Webster Butler]"
      ]
     },
     "execution_count": 183,
     "metadata": {},
     "output_type": "execute_result"
    }
   ],
   "source": [
    "cat_origin = origin_series.astype('category')\n",
    "cat_origin"
   ]
  },
  {
   "cell_type": "code",
   "execution_count": 184,
   "metadata": {},
   "outputs": [
    {
     "data": {
      "text/plain": [
       "0     12\n",
       "1     14\n",
       "2     16\n",
       "3      7\n",
       "4      1\n",
       "5     19\n",
       "6     13\n",
       "7      5\n",
       "8      4\n",
       "9      9\n",
       "10    18\n",
       "11    11\n",
       "12    17\n",
       "13    15\n",
       "14     0\n",
       "15     3\n",
       "16    10\n",
       "17     8\n",
       "18     6\n",
       "19     2\n",
       "dtype: int8"
      ]
     },
     "execution_count": 184,
     "metadata": {},
     "output_type": "execute_result"
    }
   ],
   "source": [
    "cat_origin.cat.codes"
   ]
  },
  {
   "cell_type": "code",
   "execution_count": 185,
   "metadata": {},
   "outputs": [],
   "source": [
    "data = pd.get_dummies(data, columns = ['Manager Name'])"
   ]
  },
  {
   "cell_type": "code",
   "execution_count": 186,
   "metadata": {},
   "outputs": [],
   "source": [
    "data.columns=['emp_num', 'state','zip','dob','age','sex','martial_status', 'citizen','hispanic','race','doh','reason_term','emp_status','department','pos','pay_rate','emp_source','perf_ninetymeets','perf_exceeds','perf_exceptional','perf_fullymeets','perf_tooearly','perf_needsimprovement','perf_pip','manager_alex','manager_amy','manager_board','manager_brandon','manager_brannon','manager_david','manager_debra','manager_elijiah','manager_eric','manager_janet','manager_jen','manager_john','manager_kelly','manager_ketisa','manager_kissy','manager_lynn','manager_michael','manager_peter','manager_simon','manager_webster']"
   ]
  },
  {
   "cell_type": "code",
   "execution_count": 189,
   "metadata": {},
   "outputs": [],
   "source": [
    "data = data.drop(columns = ['emp_num','dob','reason_term'])"
   ]
  },
  {
   "cell_type": "code",
   "execution_count": 190,
   "metadata": {},
   "outputs": [
    {
     "data": {
      "text/html": [
       "<div>\n",
       "<style scoped>\n",
       "    .dataframe tbody tr th:only-of-type {\n",
       "        vertical-align: middle;\n",
       "    }\n",
       "\n",
       "    .dataframe tbody tr th {\n",
       "        vertical-align: top;\n",
       "    }\n",
       "\n",
       "    .dataframe thead th {\n",
       "        text-align: right;\n",
       "    }\n",
       "</style>\n",
       "<table border=\"1\" class=\"dataframe\">\n",
       "  <thead>\n",
       "    <tr style=\"text-align: right;\">\n",
       "      <th></th>\n",
       "      <th>state</th>\n",
       "      <th>zip</th>\n",
       "      <th>age</th>\n",
       "      <th>sex</th>\n",
       "      <th>martial_status</th>\n",
       "      <th>citizen</th>\n",
       "      <th>hispanic</th>\n",
       "      <th>race</th>\n",
       "      <th>doh</th>\n",
       "      <th>emp_status</th>\n",
       "      <th>...</th>\n",
       "      <th>manager_jen</th>\n",
       "      <th>manager_john</th>\n",
       "      <th>manager_kelly</th>\n",
       "      <th>manager_ketisa</th>\n",
       "      <th>manager_kissy</th>\n",
       "      <th>manager_lynn</th>\n",
       "      <th>manager_michael</th>\n",
       "      <th>manager_peter</th>\n",
       "      <th>manager_simon</th>\n",
       "      <th>manager_webster</th>\n",
       "    </tr>\n",
       "    <tr>\n",
       "      <th>Employee Name</th>\n",
       "      <th></th>\n",
       "      <th></th>\n",
       "      <th></th>\n",
       "      <th></th>\n",
       "      <th></th>\n",
       "      <th></th>\n",
       "      <th></th>\n",
       "      <th></th>\n",
       "      <th></th>\n",
       "      <th></th>\n",
       "      <th></th>\n",
       "      <th></th>\n",
       "      <th></th>\n",
       "      <th></th>\n",
       "      <th></th>\n",
       "      <th></th>\n",
       "      <th></th>\n",
       "      <th></th>\n",
       "      <th></th>\n",
       "      <th></th>\n",
       "      <th></th>\n",
       "    </tr>\n",
       "  </thead>\n",
       "  <tbody>\n",
       "    <tr>\n",
       "      <th>Brown, Mia</th>\n",
       "      <td>MA</td>\n",
       "      <td>1450.0</td>\n",
       "      <td>32.0</td>\n",
       "      <td>Female</td>\n",
       "      <td>Married</td>\n",
       "      <td>US Citizen</td>\n",
       "      <td>No</td>\n",
       "      <td>Black or African American</td>\n",
       "      <td>10/27/08</td>\n",
       "      <td>Active</td>\n",
       "      <td>...</td>\n",
       "      <td>0</td>\n",
       "      <td>0</td>\n",
       "      <td>0</td>\n",
       "      <td>0</td>\n",
       "      <td>0</td>\n",
       "      <td>0</td>\n",
       "      <td>0</td>\n",
       "      <td>0</td>\n",
       "      <td>0</td>\n",
       "      <td>0</td>\n",
       "    </tr>\n",
       "    <tr>\n",
       "      <th>LaRotonda, William</th>\n",
       "      <td>MA</td>\n",
       "      <td>1460.0</td>\n",
       "      <td>33.0</td>\n",
       "      <td>Male</td>\n",
       "      <td>Divorced</td>\n",
       "      <td>US Citizen</td>\n",
       "      <td>No</td>\n",
       "      <td>Black or African American</td>\n",
       "      <td>1/6/14</td>\n",
       "      <td>Active</td>\n",
       "      <td>...</td>\n",
       "      <td>0</td>\n",
       "      <td>0</td>\n",
       "      <td>0</td>\n",
       "      <td>0</td>\n",
       "      <td>0</td>\n",
       "      <td>0</td>\n",
       "      <td>0</td>\n",
       "      <td>0</td>\n",
       "      <td>0</td>\n",
       "      <td>0</td>\n",
       "    </tr>\n",
       "    <tr>\n",
       "      <th>Steans, Tyrone</th>\n",
       "      <td>MA</td>\n",
       "      <td>2703.0</td>\n",
       "      <td>31.0</td>\n",
       "      <td>Male</td>\n",
       "      <td>Single</td>\n",
       "      <td>US Citizen</td>\n",
       "      <td>No</td>\n",
       "      <td>White</td>\n",
       "      <td>9/29/14</td>\n",
       "      <td>Active</td>\n",
       "      <td>...</td>\n",
       "      <td>0</td>\n",
       "      <td>0</td>\n",
       "      <td>0</td>\n",
       "      <td>0</td>\n",
       "      <td>0</td>\n",
       "      <td>0</td>\n",
       "      <td>0</td>\n",
       "      <td>0</td>\n",
       "      <td>0</td>\n",
       "      <td>0</td>\n",
       "    </tr>\n",
       "    <tr>\n",
       "      <th>Howard, Estelle</th>\n",
       "      <td>MA</td>\n",
       "      <td>2170.0</td>\n",
       "      <td>32.0</td>\n",
       "      <td>Female</td>\n",
       "      <td>Married</td>\n",
       "      <td>US Citizen</td>\n",
       "      <td>No</td>\n",
       "      <td>White</td>\n",
       "      <td>2/16/15</td>\n",
       "      <td>Active</td>\n",
       "      <td>...</td>\n",
       "      <td>0</td>\n",
       "      <td>0</td>\n",
       "      <td>0</td>\n",
       "      <td>0</td>\n",
       "      <td>0</td>\n",
       "      <td>0</td>\n",
       "      <td>0</td>\n",
       "      <td>0</td>\n",
       "      <td>0</td>\n",
       "      <td>0</td>\n",
       "    </tr>\n",
       "    <tr>\n",
       "      <th>Singh, Nan</th>\n",
       "      <td>MA</td>\n",
       "      <td>2330.0</td>\n",
       "      <td>29.0</td>\n",
       "      <td>Female</td>\n",
       "      <td>Single</td>\n",
       "      <td>US Citizen</td>\n",
       "      <td>No</td>\n",
       "      <td>White</td>\n",
       "      <td>5/1/15</td>\n",
       "      <td>Active</td>\n",
       "      <td>...</td>\n",
       "      <td>0</td>\n",
       "      <td>0</td>\n",
       "      <td>0</td>\n",
       "      <td>0</td>\n",
       "      <td>0</td>\n",
       "      <td>0</td>\n",
       "      <td>0</td>\n",
       "      <td>0</td>\n",
       "      <td>0</td>\n",
       "      <td>0</td>\n",
       "    </tr>\n",
       "  </tbody>\n",
       "</table>\n",
       "<p>5 rows × 41 columns</p>\n",
       "</div>"
      ],
      "text/plain": [
       "                     state     zip   age     sex martial_status     citizen  \\\n",
       "Employee Name                                                                 \n",
       "Brown, Mia              MA  1450.0  32.0  Female        Married  US Citizen   \n",
       "LaRotonda, William      MA  1460.0  33.0    Male       Divorced  US Citizen   \n",
       "Steans, Tyrone          MA  2703.0  31.0    Male         Single  US Citizen   \n",
       "Howard, Estelle         MA  2170.0  32.0  Female        Married  US Citizen   \n",
       "Singh, Nan              MA  2330.0  29.0  Female         Single  US Citizen   \n",
       "\n",
       "                     hispanic                       race       doh emp_status  \\\n",
       "Employee Name                                                                   \n",
       "Brown, Mia                 No  Black or African American  10/27/08     Active   \n",
       "LaRotonda, William         No  Black or African American    1/6/14     Active   \n",
       "Steans, Tyrone             No                      White   9/29/14     Active   \n",
       "Howard, Estelle            No                      White   2/16/15     Active   \n",
       "Singh, Nan                 No                      White    5/1/15     Active   \n",
       "\n",
       "                      ... manager_jen manager_john  manager_kelly  \\\n",
       "Employee Name         ...                                           \n",
       "Brown, Mia            ...           0            0              0   \n",
       "LaRotonda, William    ...           0            0              0   \n",
       "Steans, Tyrone        ...           0            0              0   \n",
       "Howard, Estelle       ...           0            0              0   \n",
       "Singh, Nan            ...           0            0              0   \n",
       "\n",
       "                     manager_ketisa  manager_kissy  manager_lynn  \\\n",
       "Employee Name                                                      \n",
       "Brown, Mia                        0              0             0   \n",
       "LaRotonda, William                0              0             0   \n",
       "Steans, Tyrone                    0              0             0   \n",
       "Howard, Estelle                   0              0             0   \n",
       "Singh, Nan                        0              0             0   \n",
       "\n",
       "                      manager_michael  manager_peter  manager_simon  \\\n",
       "Employee Name                                                         \n",
       "Brown, Mia                          0              0              0   \n",
       "LaRotonda, William                  0              0              0   \n",
       "Steans, Tyrone                      0              0              0   \n",
       "Howard, Estelle                     0              0              0   \n",
       "Singh, Nan                          0              0              0   \n",
       "\n",
       "                      manager_webster  \n",
       "Employee Name                          \n",
       "Brown, Mia                          0  \n",
       "LaRotonda, William                  0  \n",
       "Steans, Tyrone                      0  \n",
       "Howard, Estelle                     0  \n",
       "Singh, Nan                          0  \n",
       "\n",
       "[5 rows x 41 columns]"
      ]
     },
     "execution_count": 190,
     "metadata": {},
     "output_type": "execute_result"
    }
   ],
   "source": [
    "data.head()"
   ]
  },
  {
   "cell_type": "markdown",
   "metadata": {},
   "source": [
    "# CramersV\n",
    "\n",
    "**we want to determine the correlation between 2 categorical variables** \n",
    "- Manager name \n",
    "- performance scores \n",
    "\n"
   ]
  },
  {
   "cell_type": "code",
   "execution_count": 223,
   "metadata": {},
   "outputs": [],
   "source": [
    "confusion_matrix = pd.crosstab(df1['Manager Name'], df1['Performance Score'])"
   ]
  },
  {
   "cell_type": "code",
   "execution_count": 272,
   "metadata": {},
   "outputs": [
    {
     "data": {
      "text/plain": [
       "Text(0.5, 1, 'Crosstab Frequency')"
      ]
     },
     "execution_count": 272,
     "metadata": {},
     "output_type": "execute_result"
    },
    {
     "data": {
      "image/png": "[encoded data removed]",
      "text/plain": [
       "<Figure size 720x720 with 2 Axes>"
      ]
     },
     "metadata": {
      "needs_background": "light"
     },
     "output_type": "display_data"
    }
   ],
   "source": [
    "\n",
    "plt.figure(figsize=(10,10))\n",
    "sns.heatmap(confusion_matrix,annot=True, linewidths=.5)\n",
    "plt.title('Crosstab Frequency')"
   ]
  },
  {
   "cell_type": "code",
   "execution_count": 227,
   "metadata": {},
   "outputs": [],
   "source": [
    "import scipy.stats as ss"
   ]
  },
  {
   "cell_type": "code",
   "execution_count": 228,
   "metadata": {},
   "outputs": [],
   "source": [
    "def cramers_corrected_stat(confusion_matrix):\n",
    "    \"\"\" calculate Cramers V statistic for categorial-categorial association.\n",
    "        uses correction from Bergsma and Wicher, \n",
    "        Journal of the Korean Statistical Society 42 (2013): 323-328\n",
    "    \"\"\"\n",
    "    chi2 = ss.chi2_contingency(confusion_matrix)[0]\n",
    "    n = confusion_matrix.sum()\n",
    "    phi2 = chi2/n\n",
    "    r,k = confusion_matrix.shape\n",
    "    phi2corr = max(0, phi2 - ((k-1)*(r-1))/(n-1))    \n",
    "    rcorr = r - ((r-1)**2)/(n-1)\n",
    "    kcorr = k - ((k-1)**2)/(n-1)"
   ]
  },
  {
   "cell_type": "code",
   "execution_count": 246,
   "metadata": {},
   "outputs": [
    {
     "data": {
      "text/plain": [
       "Index(['Employee Name', 'Employee Number', 'State', 'Zip', 'DOB', 'Age', 'Sex',\n",
       "       'MaritalDesc', 'CitizenDesc', 'Hispanic/Latino', 'RaceDesc',\n",
       "       'Date of Hire', 'Date of Termination', 'Reason For Term',\n",
       "       'Employment Status', 'Department', 'Position', 'Pay Rate',\n",
       "       'Manager Name', 'Employee Source', 'Performance Score'],\n",
       "      dtype='object')"
      ]
     },
     "execution_count": 246,
     "metadata": {},
     "output_type": "execute_result"
    }
   ],
   "source": [
    "df1.columns"
   ]
  },
  {
   "cell_type": "code",
   "execution_count": 247,
   "metadata": {},
   "outputs": [],
   "source": [
    "def cramers_stat(confusion_matrix):\n",
    "    chi2 = ss.chi2_contingency(confusion_matrix)[0]\n",
    "    n = confusion_matrix.sum()\n",
    "    return np.sqrt(chi2 / (n*(min(confusion_matrix.shape)-1)))\n",
    "\n",
    "result = cramers_stat(confusion_matrix)"
   ]
  },
  {
   "cell_type": "code",
   "execution_count": 271,
   "metadata": {},
   "outputs": [
    {
     "data": {
      "text/plain": [
       "Performance Score\n",
       "90-day meets                0.844466\n",
       "Exceeds                     0.888555\n",
       "Exceptional                 1.567263\n",
       "Fully Meets                 0.358508\n",
       "N/A- too early to review    0.772969\n",
       "Needs Improvement           1.213997\n",
       "PIP                         1.567263\n",
       "dtype: float64"
      ]
     },
     "execution_count": 271,
     "metadata": {},
     "output_type": "execute_result"
    }
   ],
   "source": [
    "result"
   ]
  },
  {
   "cell_type": "code",
   "execution_count": null,
   "metadata": {},
   "outputs": [],
   "source": []
  },
  {
   "cell_type": "markdown",
   "metadata": {},
   "source": [
    "# Overall Diverstiy within the Organization "
   ]
  },
  {
   "cell_type": "code",
   "execution_count": 399,
   "metadata": {},
   "outputs": [],
   "source": [
    "diversity_df = pd.read_csv('datafiles/diversity.csv',index_col=0)"
   ]
  },
  {
   "cell_type": "code",
   "execution_count": 400,
   "metadata": {},
   "outputs": [
    {
     "data": {
      "image/png": "[encoded data removed]",
      "text/plain": [
       "<Figure size 432x288 with 1 Axes>"
      ]
     },
     "metadata": {
      "needs_background": "light"
     },
     "output_type": "display_data"
    }
   ],
   "source": [
    "#simple age distribution\n",
    "plt.hist(diversity_df['Age'])\n",
    "plt.show()"
   ]
  },
  {
   "cell_type": "code",
   "execution_count": 401,
   "metadata": {},
   "outputs": [],
   "source": [
    "diversity_df['Sex'].replace('male','Male',inplace=True)\n",
    "diversity_df['Sex'].replace('Male',1,inplace=True)\n",
    "diversity_df['Sex'].replace('Female',0,inplace=True)\n",
    "diversity_df['male']=diversity_df['Sex']\n",
    "diversity_df = diversity_df.drop(columns=['Sex'])"
   ]
  },
  {
   "cell_type": "code",
   "execution_count": 402,
   "metadata": {},
   "outputs": [
    {
     "data": {
      "text/plain": [
       "Single       127\n",
       "Married      119\n",
       "Divorced      30\n",
       "Separated     14\n",
       "widowed       11\n",
       "Name: MaritalDesc, dtype: int64"
      ]
     },
     "execution_count": 402,
     "metadata": {},
     "output_type": "execute_result"
    }
   ],
   "source": [
    "diversity_df['MaritalDesc'].value_counts()"
   ]
  },
  {
   "cell_type": "code",
   "execution_count": 403,
   "metadata": {},
   "outputs": [
    {
     "name": "stdout",
     "output_type": "stream",
     "text": [
      "<class 'pandas.core.frame.DataFrame'>\n",
      "Index: 301 entries, Brown, Mia to Sweetwater, Alex\n",
      "Data columns (total 9 columns):\n",
      " #   Column             Non-Null Count  Dtype  \n",
      "---  ------             --------------  -----  \n",
      " 0   Age                301 non-null    int64  \n",
      " 1   MaritalDesc        301 non-null    object \n",
      " 2   CitizenDesc        301 non-null    object \n",
      " 3   Hispanic/Latino    301 non-null    object \n",
      " 4   RaceDesc           301 non-null    object \n",
      " 5   Employment Status  301 non-null    object \n",
      " 6   Department         301 non-null    object \n",
      " 7   Pay Rate           301 non-null    float64\n",
      " 8   male               301 non-null    int64  \n",
      "dtypes: float64(1), int64(2), object(6)\n",
      "memory usage: 23.5+ KB\n"
     ]
    }
   ],
   "source": [
    "diversity_df.info()"
   ]
  },
  {
   "cell_type": "code",
   "execution_count": 404,
   "metadata": {},
   "outputs": [],
   "source": [
    "diversity_df['MaritalDesc'].replace('Single',0,inplace=True)\n",
    "diversity_df['MaritalDesc'].replace('Married',1,inplace=True)\n",
    "diversity_df['MaritalDesc'].replace('Separated',1,inplace=True)\n",
    "diversity_df['MaritalDesc'].replace('widowed',0,inplace=True)\n",
    "diversity_df['MaritalDesc'].replace('Divorced',0,inplace=True)\n",
    "diversity_df['married']=diversity_df['MaritalDesc']\n",
    "diversity_df = diversity_df.drop(columns=['MaritalDesc'])"
   ]
  },
  {
   "cell_type": "code",
   "execution_count": 405,
   "metadata": {},
   "outputs": [],
   "source": [
    "diversity_df=diversity_df.drop(columns=['CitizenDesc'])"
   ]
  },
  {
   "cell_type": "code",
   "execution_count": 406,
   "metadata": {},
   "outputs": [],
   "source": [
    "diversity_df['Hispanic/Latino'].replace(['No','no'],0,inplace=True)\n",
    "diversity_df['Hispanic/Latino'].replace(['Yes','yes'],1,inplace=True)"
   ]
  },
  {
   "cell_type": "code",
   "execution_count": 407,
   "metadata": {},
   "outputs": [],
   "source": [
    "diversity_df['RaceDesc'].replace('White',1,inplace=True)\n",
    "diversity_df['RaceDesc'].replace(['Black or African American', 'Asian', 'Two or more races','Hispanic','American Indian or Alaska Native'],0,inplace=True)"
   ]
  },
  {
   "cell_type": "code",
   "execution_count": 408,
   "metadata": {},
   "outputs": [],
   "source": [
    "diversity_df = diversity_df.dropna()"
   ]
  },
  {
   "cell_type": "code",
   "execution_count": 409,
   "metadata": {},
   "outputs": [],
   "source": [
    "diversity_df['white'] = diversity_df['RaceDesc']"
   ]
  },
  {
   "cell_type": "code",
   "execution_count": 410,
   "metadata": {},
   "outputs": [],
   "source": [
    "diversity_df=diversity_df.drop(columns=['RaceDesc'])"
   ]
  },
  {
   "cell_type": "code",
   "execution_count": 411,
   "metadata": {},
   "outputs": [
    {
     "data": {
      "text/plain": [
       "Active                    174\n",
       "Voluntarily Terminated     88\n",
       "Terminated for Cause       14\n",
       "Leave of Absence           14\n",
       "Future Start               11\n",
       "Name: Employment Status, dtype: int64"
      ]
     },
     "execution_count": 411,
     "metadata": {},
     "output_type": "execute_result"
    }
   ],
   "source": [
    "diversity_df['Employment Status'].value_counts()"
   ]
  },
  {
   "cell_type": "code",
   "execution_count": 412,
   "metadata": {},
   "outputs": [],
   "source": [
    "diversity_df = pd.get_dummies(diversity_df, columns = ['Employment Status', 'Department'])"
   ]
  },
  {
   "cell_type": "code",
   "execution_count": 414,
   "metadata": {},
   "outputs": [
    {
     "data": {
      "text/html": [
       "<div>\n",
       "<style scoped>\n",
       "    .dataframe tbody tr th:only-of-type {\n",
       "        vertical-align: middle;\n",
       "    }\n",
       "\n",
       "    .dataframe tbody tr th {\n",
       "        vertical-align: top;\n",
       "    }\n",
       "\n",
       "    .dataframe thead th {\n",
       "        text-align: right;\n",
       "    }\n",
       "</style>\n",
       "<table border=\"1\" class=\"dataframe\">\n",
       "  <thead>\n",
       "    <tr style=\"text-align: right;\">\n",
       "      <th></th>\n",
       "      <th>Age</th>\n",
       "      <th>Hispanic/Latino</th>\n",
       "      <th>Pay Rate</th>\n",
       "      <th>male</th>\n",
       "      <th>married</th>\n",
       "      <th>white</th>\n",
       "      <th>Employment Status_Active</th>\n",
       "      <th>Employment Status_Future Start</th>\n",
       "      <th>Employment Status_Leave of Absence</th>\n",
       "      <th>Employment Status_Terminated for Cause</th>\n",
       "      <th>Employment Status_Voluntarily Terminated</th>\n",
       "      <th>Department_Admin Offices</th>\n",
       "      <th>Department_Executive Office</th>\n",
       "      <th>Department_IT/IS</th>\n",
       "      <th>Department_Production</th>\n",
       "      <th>Department_Sales</th>\n",
       "      <th>Department_Software Engineering</th>\n",
       "      <th>Department_Software Engineering</th>\n",
       "    </tr>\n",
       "    <tr>\n",
       "      <th>Employee Name</th>\n",
       "      <th></th>\n",
       "      <th></th>\n",
       "      <th></th>\n",
       "      <th></th>\n",
       "      <th></th>\n",
       "      <th></th>\n",
       "      <th></th>\n",
       "      <th></th>\n",
       "      <th></th>\n",
       "      <th></th>\n",
       "      <th></th>\n",
       "      <th></th>\n",
       "      <th></th>\n",
       "      <th></th>\n",
       "      <th></th>\n",
       "      <th></th>\n",
       "      <th></th>\n",
       "      <th></th>\n",
       "    </tr>\n",
       "  </thead>\n",
       "  <tbody>\n",
       "    <tr>\n",
       "      <th>Brown, Mia</th>\n",
       "      <td>32</td>\n",
       "      <td>0</td>\n",
       "      <td>28.50</td>\n",
       "      <td>0</td>\n",
       "      <td>1</td>\n",
       "      <td>0</td>\n",
       "      <td>1</td>\n",
       "      <td>0</td>\n",
       "      <td>0</td>\n",
       "      <td>0</td>\n",
       "      <td>0</td>\n",
       "      <td>1</td>\n",
       "      <td>0</td>\n",
       "      <td>0</td>\n",
       "      <td>0</td>\n",
       "      <td>0</td>\n",
       "      <td>0</td>\n",
       "      <td>0</td>\n",
       "    </tr>\n",
       "    <tr>\n",
       "      <th>LaRotonda, William</th>\n",
       "      <td>33</td>\n",
       "      <td>0</td>\n",
       "      <td>23.00</td>\n",
       "      <td>1</td>\n",
       "      <td>0</td>\n",
       "      <td>0</td>\n",
       "      <td>1</td>\n",
       "      <td>0</td>\n",
       "      <td>0</td>\n",
       "      <td>0</td>\n",
       "      <td>0</td>\n",
       "      <td>1</td>\n",
       "      <td>0</td>\n",
       "      <td>0</td>\n",
       "      <td>0</td>\n",
       "      <td>0</td>\n",
       "      <td>0</td>\n",
       "      <td>0</td>\n",
       "    </tr>\n",
       "    <tr>\n",
       "      <th>Steans, Tyrone</th>\n",
       "      <td>31</td>\n",
       "      <td>0</td>\n",
       "      <td>29.00</td>\n",
       "      <td>1</td>\n",
       "      <td>0</td>\n",
       "      <td>1</td>\n",
       "      <td>1</td>\n",
       "      <td>0</td>\n",
       "      <td>0</td>\n",
       "      <td>0</td>\n",
       "      <td>0</td>\n",
       "      <td>1</td>\n",
       "      <td>0</td>\n",
       "      <td>0</td>\n",
       "      <td>0</td>\n",
       "      <td>0</td>\n",
       "      <td>0</td>\n",
       "      <td>0</td>\n",
       "    </tr>\n",
       "    <tr>\n",
       "      <th>Howard, Estelle</th>\n",
       "      <td>32</td>\n",
       "      <td>0</td>\n",
       "      <td>21.50</td>\n",
       "      <td>0</td>\n",
       "      <td>1</td>\n",
       "      <td>1</td>\n",
       "      <td>1</td>\n",
       "      <td>0</td>\n",
       "      <td>0</td>\n",
       "      <td>0</td>\n",
       "      <td>0</td>\n",
       "      <td>1</td>\n",
       "      <td>0</td>\n",
       "      <td>0</td>\n",
       "      <td>0</td>\n",
       "      <td>0</td>\n",
       "      <td>0</td>\n",
       "      <td>0</td>\n",
       "    </tr>\n",
       "    <tr>\n",
       "      <th>Singh, Nan</th>\n",
       "      <td>29</td>\n",
       "      <td>0</td>\n",
       "      <td>16.56</td>\n",
       "      <td>0</td>\n",
       "      <td>0</td>\n",
       "      <td>1</td>\n",
       "      <td>1</td>\n",
       "      <td>0</td>\n",
       "      <td>0</td>\n",
       "      <td>0</td>\n",
       "      <td>0</td>\n",
       "      <td>1</td>\n",
       "      <td>0</td>\n",
       "      <td>0</td>\n",
       "      <td>0</td>\n",
       "      <td>0</td>\n",
       "      <td>0</td>\n",
       "      <td>0</td>\n",
       "    </tr>\n",
       "  </tbody>\n",
       "</table>\n",
       "</div>"
      ],
      "text/plain": [
       "                      Age  Hispanic/Latino  Pay Rate  male  married  white  \\\n",
       "Employee Name                                                                \n",
       "Brown, Mia             32                0     28.50     0        1      0   \n",
       "LaRotonda, William     33                0     23.00     1        0      0   \n",
       "Steans, Tyrone         31                0     29.00     1        0      1   \n",
       "Howard, Estelle        32                0     21.50     0        1      1   \n",
       "Singh, Nan             29                0     16.56     0        0      1   \n",
       "\n",
       "                      Employment Status_Active  \\\n",
       "Employee Name                                    \n",
       "Brown, Mia                                   1   \n",
       "LaRotonda, William                           1   \n",
       "Steans, Tyrone                               1   \n",
       "Howard, Estelle                              1   \n",
       "Singh, Nan                                   1   \n",
       "\n",
       "                      Employment Status_Future Start  \\\n",
       "Employee Name                                          \n",
       "Brown, Mia                                         0   \n",
       "LaRotonda, William                                 0   \n",
       "Steans, Tyrone                                     0   \n",
       "Howard, Estelle                                    0   \n",
       "Singh, Nan                                         0   \n",
       "\n",
       "                      Employment Status_Leave of Absence  \\\n",
       "Employee Name                                              \n",
       "Brown, Mia                                             0   \n",
       "LaRotonda, William                                     0   \n",
       "Steans, Tyrone                                         0   \n",
       "Howard, Estelle                                        0   \n",
       "Singh, Nan                                             0   \n",
       "\n",
       "                      Employment Status_Terminated for Cause  \\\n",
       "Employee Name                                                  \n",
       "Brown, Mia                                                 0   \n",
       "LaRotonda, William                                         0   \n",
       "Steans, Tyrone                                             0   \n",
       "Howard, Estelle                                            0   \n",
       "Singh, Nan                                                 0   \n",
       "\n",
       "                      Employment Status_Voluntarily Terminated  \\\n",
       "Employee Name                                                    \n",
       "Brown, Mia                                                   0   \n",
       "LaRotonda, William                                           0   \n",
       "Steans, Tyrone                                               0   \n",
       "Howard, Estelle                                              0   \n",
       "Singh, Nan                                                   0   \n",
       "\n",
       "                      Department_Admin Offices  Department_Executive Office  \\\n",
       "Employee Name                                                                 \n",
       "Brown, Mia                                   1                            0   \n",
       "LaRotonda, William                           1                            0   \n",
       "Steans, Tyrone                               1                            0   \n",
       "Howard, Estelle                              1                            0   \n",
       "Singh, Nan                                   1                            0   \n",
       "\n",
       "                      Department_IT/IS  Department_Production         \\\n",
       "Employee Name                                                          \n",
       "Brown, Mia                           0                             0   \n",
       "LaRotonda, William                   0                             0   \n",
       "Steans, Tyrone                       0                             0   \n",
       "Howard, Estelle                      0                             0   \n",
       "Singh, Nan                           0                             0   \n",
       "\n",
       "                      Department_Sales  Department_Software Engineering  \\\n",
       "Employee Name                                                             \n",
       "Brown, Mia                           0                                0   \n",
       "LaRotonda, William                   0                                0   \n",
       "Steans, Tyrone                       0                                0   \n",
       "Howard, Estelle                      0                                0   \n",
       "Singh, Nan                           0                                0   \n",
       "\n",
       "                      Department_Software Engineering       \n",
       "Employee Name                                               \n",
       "Brown, Mia                                               0  \n",
       "LaRotonda, William                                       0  \n",
       "Steans, Tyrone                                           0  \n",
       "Howard, Estelle                                          0  \n",
       "Singh, Nan                                               0  "
      ]
     },
     "execution_count": 414,
     "metadata": {},
     "output_type": "execute_result"
    }
   ],
   "source": [
    "diversity_df.head()"
   ]
  },
  {
   "cell_type": "code",
   "execution_count": 415,
   "metadata": {},
   "outputs": [],
   "source": [
    "diversity_df.columns=['age', \n",
    "                      'latino',\n",
    "                      'pay_rate',\n",
    "                      'male',\n",
    "                      'married',\n",
    "                      'white',\n",
    "                      'status_active',\n",
    "                      'status_futurestart',\n",
    "                     'status_leaveofabsence',\n",
    "                     'status_term_for_cause',\n",
    "                     'status_term_volun',\n",
    "                     'dep_admin',\n",
    "                     'dep_exec',\n",
    "                     'dep_it',\n",
    "                     'dep_production',\n",
    "                     'dep_sales',\n",
    "                     'dep_softengineering',\n",
    "                     'dep_soft']\n"
   ]
  },
  {
   "cell_type": "code",
   "execution_count": 416,
   "metadata": {},
   "outputs": [],
   "source": [
    "diversity_df['dep_software_engineering'] = diversity_df['dep_softengineering']+diversity_df['dep_soft']"
   ]
  },
  {
   "cell_type": "code",
   "execution_count": 417,
   "metadata": {},
   "outputs": [],
   "source": [
    "diversity_df = diversity_df.drop(columns=['dep_softengineering','dep_soft'])"
   ]
  },
  {
   "cell_type": "code",
   "execution_count": 421,
   "metadata": {},
   "outputs": [
    {
     "data": {
      "text/plain": [
       "Text(0.5, 1, 'Diversity within the Organization')"
      ]
     },
     "execution_count": 421,
     "metadata": {},
     "output_type": "execute_result"
    },
    {
     "data": {
      "image/png": "[encoded data removed]",
      "text/plain": [
       "<Figure size 1440x720 with 2 Axes>"
      ]
     },
     "metadata": {
      "needs_background": "light"
     },
     "output_type": "display_data"
    }
   ],
   "source": [
    "plt.figure(figsize=(20,10))\n",
    "sns.heatmap(diversity_df.corr(),annot=True)\n",
    "plt.title('Diversity within the Organization')"
   ]
  },
  {
   "cell_type": "code",
   "execution_count": null,
   "metadata": {},
   "outputs": [],
   "source": [
    "fig, axes = plt.subplots(nrows=1, ncols=4, figsize=(16,3))\n",
    " \n",
    "for xcol, ax in zip(['acceleration', 'displacement', 'horsepower', 'weight'], axes):\n",
    "    data.plot(kind='scatter', x=xcol, y='mpg', ax=ax, alpha=0.4, color='b')"
   ]
  }
 ],
 "metadata": {
  "kernelspec": {
   "display_name": "Python 3",
   "language": "python",
   "name": "python3"
  },
  "language_info": {
   "codemirror_mode": {
    "name": "ipython",
    "version": 3
   },
   "file_extension": ".py",
   "mimetype": "text/x-python",
   "name": "python",
   "nbconvert_exporter": "python",
   "pygments_lexer": "ipython3",
   "version": "3.8.1"
  }
 },
 "nbformat": 4,
 "nbformat_minor": 4
}

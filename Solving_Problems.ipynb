{
 "cells": [
  {
   "cell_type": "code",
   "execution_count": 1,
   "metadata": {},
   "outputs": [],
   "source": [
    "import pandas as pd\n",
    "import matplotlib.pyplot as plt\n",
    "import seaborn as sns\n",
    "%matplotlib inline\n",
    "import numpy as np\n",
    "\n",
    "import itertools\n",
    "import warnings\n",
    "warnings.filterwarnings('ignore')\n",
    "\n",
    "from sklearn.model_selection import train_test_split, cross_val_score\n",
    "from sklearn.preprocessing import LabelEncoder, LabelBinarizer, binarize\n",
    "from sklearn.linear_model import LogisticRegression\n",
    "from sklearn import metrics\n",
    "\n",
    "from sklearn.ensemble import AdaBoostClassifier, GradientBoostingClassifier\n",
    "from sklearn.metrics import accuracy_score, f1_score, confusion_matrix, classification_report\n",
    "\n",
    "# SMOTE\n",
    "import imblearn\n",
    "from collections import Counter\n",
    "from sklearn.datasets import make_classification\n",
    "from imblearn.over_sampling import SMOTE\n",
    "from matplotlib import pyplot\n",
    "from numpy import where\n",
    "from imblearn.under_sampling import RandomUnderSampler\n",
    "from imblearn.pipeline import Pipeline\n",
    "from matplotlib import pyplot\n",
    "\n",
    "#KNN Imports\n",
    "from sklearn.neighbors import KNeighborsClassifier\n",
    "from sklearn.preprocessing import StandardScaler\n",
    "\n",
    "#decision trees Imports\n",
    "from sklearn.tree import DecisionTreeRegressor\n",
    "from sklearn.externals.six import StringIO  \n",
    "from IPython.display import Image  \n",
    "from sklearn.tree import export_graphviz\n",
    "# import pydotplus\n",
    "from sklearn.metrics import mean_squared_error\n",
    "from sklearn.tree import DecisionTreeClassifier\n",
    "from sklearn.model_selection import KFold\n",
    "from sklearn.externals.six import StringIO\n",
    "\n",
    "#Random Forest Imports\n",
    "from sklearn.ensemble import BaggingClassifier, RandomForestClassifier, AdaBoostClassifier\n",
    "from sklearn.model_selection import RandomizedSearchCV"
   ]
  },
  {
   "cell_type": "code",
   "execution_count": 2,
   "metadata": {},
   "outputs": [],
   "source": [
    "hr_data = pd.read_csv('datafiles/hrdata_cleaned',index_col=0)"
   ]
  },
  {
   "cell_type": "code",
   "execution_count": 3,
   "metadata": {},
   "outputs": [],
   "source": [
    "df_target = hr_data['performance_score_Exceptional']+hr_data['performance_score_Exceeds']\n",
    "df_feats = hr_data.drop(columns=['performance_score_Exceeds','performance_score_Exceptional','performance_score_Fully Meets','performance_score_N/A- too early to review','performance_score_Needs Improvement','performance_score_PIP'])\n"
   ]
  },
  {
   "cell_type": "markdown",
   "metadata": {},
   "source": [
    "# Train Test Split"
   ]
  },
  {
   "cell_type": "code",
   "execution_count": 4,
   "metadata": {},
   "outputs": [],
   "source": [
    "#creating matrix of features \n",
    "X = df_feats.drop(columns=['name'])\n",
    "#assigning target variable \n",
    "y = df_target\n",
    "#creating a list of features\n",
    "feature_cols = X.columns"
   ]
  },
  {
   "cell_type": "code",
   "execution_count": 5,
   "metadata": {},
   "outputs": [
    {
     "data": {
      "text/plain": [
       "0    263\n",
       "1     37\n",
       "dtype: int64"
      ]
     },
     "execution_count": 5,
     "metadata": {},
     "output_type": "execute_result"
    }
   ],
   "source": [
    "y.value_counts()"
   ]
  },
  {
   "cell_type": "code",
   "execution_count": 6,
   "metadata": {},
   "outputs": [],
   "source": [
    "# Use x and y variables to split the training data into train and test set\n",
    "X_train, X_test, y_train, y_test = train_test_split(X, y, test_size = .40,random_state=42)"
   ]
  },
  {
   "cell_type": "markdown",
   "metadata": {},
   "source": [
    "1. Logistic Regression"
   ]
  },
  {
   "cell_type": "code",
   "execution_count": 7,
   "metadata": {},
   "outputs": [
    {
     "data": {
      "text/plain": [
       "LogisticRegression(C=1.0, class_weight=None, dual=False, fit_intercept=True,\n",
       "                   intercept_scaling=1, l1_ratio=None, max_iter=100,\n",
       "                   multi_class='auto', n_jobs=None, penalty='l2',\n",
       "                   random_state=None, solver='lbfgs', tol=0.0001, verbose=0,\n",
       "                   warm_start=False)"
      ]
     },
     "execution_count": 7,
     "metadata": {},
     "output_type": "execute_result"
    }
   ],
   "source": [
    "logreg = LogisticRegression()\n",
    "logreg.fit(X_train, y_train)"
   ]
  },
  {
   "cell_type": "code",
   "execution_count": 8,
   "metadata": {},
   "outputs": [],
   "source": [
    "dictionary = dict(zip(list(X_train.columns), list(logreg.coef_[0])))\n",
    "# make class predictions for the testing set\n",
    "y_pred_class = logreg.predict(X_test)"
   ]
  },
  {
   "cell_type": "code",
   "execution_count": 9,
   "metadata": {},
   "outputs": [
    {
     "name": "stdout",
     "output_type": "stream",
     "text": [
      "0.8583333333333333\n"
     ]
    }
   ],
   "source": [
    "print(metrics.accuracy_score(y_test, y_pred_class))"
   ]
  },
  {
   "cell_type": "code",
   "execution_count": 10,
   "metadata": {},
   "outputs": [
    {
     "data": {
      "text/plain": [
       "0    107\n",
       "1     13\n",
       "dtype: int64"
      ]
     },
     "execution_count": 10,
     "metadata": {},
     "output_type": "execute_result"
    }
   ],
   "source": [
    "y_test.value_counts()"
   ]
  },
  {
   "cell_type": "code",
   "execution_count": 11,
   "metadata": {},
   "outputs": [
    {
     "name": "stdout",
     "output_type": "stream",
     "text": [
      "[[102   5]\n",
      " [ 12   1]]\n"
     ]
    }
   ],
   "source": [
    "# IMPORTANT: first argument is true values, second argument is predicted values\n",
    "print(metrics.confusion_matrix(y_test, y_pred_class))"
   ]
  },
  {
   "cell_type": "code",
   "execution_count": 12,
   "metadata": {},
   "outputs": [],
   "source": [
    "#pip install imbalanced-learn"
   ]
  },
  {
   "cell_type": "code",
   "execution_count": null,
   "metadata": {},
   "outputs": [],
   "source": []
  },
  {
   "cell_type": "code",
   "execution_count": 13,
   "metadata": {},
   "outputs": [
    {
     "name": "stdout",
     "output_type": "stream",
     "text": [
      "Counter({0: 263, 1: 263})\n"
     ]
    }
   ],
   "source": [
    "# transform the dataset\n",
    "oversample = SMOTE()\n",
    "X, y = oversample.fit_resample(X, y)\n",
    "# summarize the new class distribution\n",
    "counter = Counter(y)\n",
    "print(counter)"
   ]
  },
  {
   "cell_type": "code",
   "execution_count": 14,
   "metadata": {},
   "outputs": [],
   "source": [
    "# Use x and y variables to split the training data into train and test set\n",
    "X_train, X_test, y_train, y_test = train_test_split(X, y, test_size = .40,random_state=42)"
   ]
  },
  {
   "cell_type": "code",
   "execution_count": 15,
   "metadata": {},
   "outputs": [
    {
     "data": {
      "text/plain": [
       "LogisticRegression(C=1.0, class_weight=None, dual=False, fit_intercept=True,\n",
       "                   intercept_scaling=1, l1_ratio=None, max_iter=100,\n",
       "                   multi_class='auto', n_jobs=None, penalty='l2',\n",
       "                   random_state=None, solver='lbfgs', tol=0.0001, verbose=0,\n",
       "                   warm_start=False)"
      ]
     },
     "execution_count": 15,
     "metadata": {},
     "output_type": "execute_result"
    }
   ],
   "source": [
    "logreg = LogisticRegression()\n",
    "logreg.fit(X_train, y_train)"
   ]
  },
  {
   "cell_type": "code",
   "execution_count": 16,
   "metadata": {},
   "outputs": [
    {
     "name": "stdout",
     "output_type": "stream",
     "text": [
      "Accuracy_Score--------\n",
      "0.8625592417061612\n",
      "\n",
      "\n",
      "Value_Counts--------\n",
      "1    111\n",
      "0    100\n",
      "dtype: int64\n"
     ]
    }
   ],
   "source": [
    "dictionary = dict(zip(list(X_train.columns), list(logreg.coef_[0])))\n",
    "# make class predictions for the testing set\n",
    "y_pred_class = logreg.predict(X_test)\n",
    "print('Accuracy_Score--------')\n",
    "print(metrics.accuracy_score(y_test, y_pred_class))\n",
    "print('\\n')\n",
    "print('Value_Counts--------')\n",
    "print(y_test.value_counts())"
   ]
  },
  {
   "cell_type": "markdown",
   "metadata": {},
   "source": [
    "**Confusion matrix**"
   ]
  },
  {
   "cell_type": "code",
   "execution_count": 17,
   "metadata": {},
   "outputs": [
    {
     "name": "stdout",
     "output_type": "stream",
     "text": [
      "[[89 11]\n",
      " [18 93]]\n"
     ]
    }
   ],
   "source": [
    "print(metrics.confusion_matrix(y_test, y_pred_class))"
   ]
  },
  {
   "cell_type": "markdown",
   "metadata": {},
   "source": [
    "# 1. Is there any relationship between who a person works for and their performance score?\n",
    "- Correlation between manager and performance score "
   ]
  },
  {
   "cell_type": "code",
   "execution_count": 18,
   "metadata": {},
   "outputs": [],
   "source": [
    "hr_data = hr_data.set_index('name')"
   ]
  },
  {
   "cell_type": "code",
   "execution_count": 22,
   "metadata": {},
   "outputs": [],
   "source": [
    "data = pd.read_csv('datafiles/HR_dataset.csv')"
   ]
  },
  {
   "cell_type": "code",
   "execution_count": 23,
   "metadata": {
    "collapsed": true
   },
   "outputs": [
    {
     "data": {
      "text/html": [
       "<div>\n",
       "<style scoped>\n",
       "    .dataframe tbody tr th:only-of-type {\n",
       "        vertical-align: middle;\n",
       "    }\n",
       "\n",
       "    .dataframe tbody tr th {\n",
       "        vertical-align: top;\n",
       "    }\n",
       "\n",
       "    .dataframe thead th {\n",
       "        text-align: right;\n",
       "    }\n",
       "</style>\n",
       "<table border=\"1\" class=\"dataframe\">\n",
       "  <thead>\n",
       "    <tr style=\"text-align: right;\">\n",
       "      <th></th>\n",
       "      <th>Employee Number</th>\n",
       "      <th>State</th>\n",
       "      <th>Zip</th>\n",
       "      <th>DOB</th>\n",
       "      <th>Age</th>\n",
       "      <th>Sex</th>\n",
       "      <th>MaritalDesc</th>\n",
       "      <th>CitizenDesc</th>\n",
       "      <th>Hispanic/Latino</th>\n",
       "      <th>RaceDesc</th>\n",
       "      <th>...</th>\n",
       "      <th>Pay Rate</th>\n",
       "      <th>Manager Name</th>\n",
       "      <th>Employee Source</th>\n",
       "      <th>Performance Score_90-day meets</th>\n",
       "      <th>Performance Score_Exceeds</th>\n",
       "      <th>Performance Score_Exceptional</th>\n",
       "      <th>Performance Score_Fully Meets</th>\n",
       "      <th>Performance Score_N/A- too early to review</th>\n",
       "      <th>Performance Score_Needs Improvement</th>\n",
       "      <th>Performance Score_PIP</th>\n",
       "    </tr>\n",
       "    <tr>\n",
       "      <th>Employee Name</th>\n",
       "      <th></th>\n",
       "      <th></th>\n",
       "      <th></th>\n",
       "      <th></th>\n",
       "      <th></th>\n",
       "      <th></th>\n",
       "      <th></th>\n",
       "      <th></th>\n",
       "      <th></th>\n",
       "      <th></th>\n",
       "      <th></th>\n",
       "      <th></th>\n",
       "      <th></th>\n",
       "      <th></th>\n",
       "      <th></th>\n",
       "      <th></th>\n",
       "      <th></th>\n",
       "      <th></th>\n",
       "      <th></th>\n",
       "      <th></th>\n",
       "      <th></th>\n",
       "    </tr>\n",
       "  </thead>\n",
       "  <tbody>\n",
       "    <tr>\n",
       "      <th>Brown, Mia</th>\n",
       "      <td>1.103024e+09</td>\n",
       "      <td>MA</td>\n",
       "      <td>1450.0</td>\n",
       "      <td>11/24/85</td>\n",
       "      <td>32.0</td>\n",
       "      <td>Female</td>\n",
       "      <td>Married</td>\n",
       "      <td>US Citizen</td>\n",
       "      <td>No</td>\n",
       "      <td>Black or African American</td>\n",
       "      <td>...</td>\n",
       "      <td>28.50</td>\n",
       "      <td>Brandon R. LeBlanc</td>\n",
       "      <td>Diversity Job Fair</td>\n",
       "      <td>0</td>\n",
       "      <td>0</td>\n",
       "      <td>0</td>\n",
       "      <td>1</td>\n",
       "      <td>0</td>\n",
       "      <td>0</td>\n",
       "      <td>0</td>\n",
       "    </tr>\n",
       "    <tr>\n",
       "      <th>LaRotonda, William</th>\n",
       "      <td>1.106027e+09</td>\n",
       "      <td>MA</td>\n",
       "      <td>1460.0</td>\n",
       "      <td>4/26/84</td>\n",
       "      <td>33.0</td>\n",
       "      <td>Male</td>\n",
       "      <td>Divorced</td>\n",
       "      <td>US Citizen</td>\n",
       "      <td>No</td>\n",
       "      <td>Black or African American</td>\n",
       "      <td>...</td>\n",
       "      <td>23.00</td>\n",
       "      <td>Brandon R. LeBlanc</td>\n",
       "      <td>Website Banner Ads</td>\n",
       "      <td>0</td>\n",
       "      <td>0</td>\n",
       "      <td>0</td>\n",
       "      <td>1</td>\n",
       "      <td>0</td>\n",
       "      <td>0</td>\n",
       "      <td>0</td>\n",
       "    </tr>\n",
       "    <tr>\n",
       "      <th>Steans, Tyrone</th>\n",
       "      <td>1.302053e+09</td>\n",
       "      <td>MA</td>\n",
       "      <td>2703.0</td>\n",
       "      <td>9/1/86</td>\n",
       "      <td>31.0</td>\n",
       "      <td>Male</td>\n",
       "      <td>Single</td>\n",
       "      <td>US Citizen</td>\n",
       "      <td>No</td>\n",
       "      <td>White</td>\n",
       "      <td>...</td>\n",
       "      <td>29.00</td>\n",
       "      <td>Brandon R. LeBlanc</td>\n",
       "      <td>Internet Search</td>\n",
       "      <td>0</td>\n",
       "      <td>0</td>\n",
       "      <td>0</td>\n",
       "      <td>1</td>\n",
       "      <td>0</td>\n",
       "      <td>0</td>\n",
       "      <td>0</td>\n",
       "    </tr>\n",
       "    <tr>\n",
       "      <th>Howard, Estelle</th>\n",
       "      <td>1.211051e+09</td>\n",
       "      <td>MA</td>\n",
       "      <td>2170.0</td>\n",
       "      <td>9/16/85</td>\n",
       "      <td>32.0</td>\n",
       "      <td>Female</td>\n",
       "      <td>Married</td>\n",
       "      <td>US Citizen</td>\n",
       "      <td>No</td>\n",
       "      <td>White</td>\n",
       "      <td>...</td>\n",
       "      <td>21.50</td>\n",
       "      <td>Brandon R. LeBlanc</td>\n",
       "      <td>Pay Per Click - Google</td>\n",
       "      <td>0</td>\n",
       "      <td>0</td>\n",
       "      <td>0</td>\n",
       "      <td>0</td>\n",
       "      <td>1</td>\n",
       "      <td>0</td>\n",
       "      <td>0</td>\n",
       "    </tr>\n",
       "    <tr>\n",
       "      <th>Singh, Nan</th>\n",
       "      <td>1.307060e+09</td>\n",
       "      <td>MA</td>\n",
       "      <td>2330.0</td>\n",
       "      <td>5/19/88</td>\n",
       "      <td>29.0</td>\n",
       "      <td>Female</td>\n",
       "      <td>Single</td>\n",
       "      <td>US Citizen</td>\n",
       "      <td>No</td>\n",
       "      <td>White</td>\n",
       "      <td>...</td>\n",
       "      <td>16.56</td>\n",
       "      <td>Brandon R. LeBlanc</td>\n",
       "      <td>Website Banner Ads</td>\n",
       "      <td>0</td>\n",
       "      <td>0</td>\n",
       "      <td>0</td>\n",
       "      <td>0</td>\n",
       "      <td>1</td>\n",
       "      <td>0</td>\n",
       "      <td>0</td>\n",
       "    </tr>\n",
       "    <tr>\n",
       "      <th>...</th>\n",
       "      <td>...</td>\n",
       "      <td>...</td>\n",
       "      <td>...</td>\n",
       "      <td>...</td>\n",
       "      <td>...</td>\n",
       "      <td>...</td>\n",
       "      <td>...</td>\n",
       "      <td>...</td>\n",
       "      <td>...</td>\n",
       "      <td>...</td>\n",
       "      <td>...</td>\n",
       "      <td>...</td>\n",
       "      <td>...</td>\n",
       "      <td>...</td>\n",
       "      <td>...</td>\n",
       "      <td>...</td>\n",
       "      <td>...</td>\n",
       "      <td>...</td>\n",
       "      <td>...</td>\n",
       "      <td>...</td>\n",
       "      <td>...</td>\n",
       "    </tr>\n",
       "    <tr>\n",
       "      <th>Saada, Adell</th>\n",
       "      <td>1.012023e+09</td>\n",
       "      <td>MA</td>\n",
       "      <td>2132.0</td>\n",
       "      <td>7/24/86</td>\n",
       "      <td>31.0</td>\n",
       "      <td>Female</td>\n",
       "      <td>Married</td>\n",
       "      <td>US Citizen</td>\n",
       "      <td>No</td>\n",
       "      <td>White</td>\n",
       "      <td>...</td>\n",
       "      <td>49.25</td>\n",
       "      <td>Alex Sweetwater</td>\n",
       "      <td>Pay Per Click - Google</td>\n",
       "      <td>0</td>\n",
       "      <td>0</td>\n",
       "      <td>0</td>\n",
       "      <td>1</td>\n",
       "      <td>0</td>\n",
       "      <td>0</td>\n",
       "      <td>0</td>\n",
       "    </tr>\n",
       "    <tr>\n",
       "      <th>Szabo, Andrew</th>\n",
       "      <td>1.201031e+09</td>\n",
       "      <td>MA</td>\n",
       "      <td>2140.0</td>\n",
       "      <td>5/6/83</td>\n",
       "      <td>34.0</td>\n",
       "      <td>Male</td>\n",
       "      <td>Single</td>\n",
       "      <td>US Citizen</td>\n",
       "      <td>No</td>\n",
       "      <td>White</td>\n",
       "      <td>...</td>\n",
       "      <td>48.00</td>\n",
       "      <td>Alex Sweetwater</td>\n",
       "      <td>MBTA ads</td>\n",
       "      <td>0</td>\n",
       "      <td>0</td>\n",
       "      <td>1</td>\n",
       "      <td>0</td>\n",
       "      <td>0</td>\n",
       "      <td>0</td>\n",
       "      <td>0</td>\n",
       "    </tr>\n",
       "    <tr>\n",
       "      <th>True, Edward</th>\n",
       "      <td>1.102024e+09</td>\n",
       "      <td>MA</td>\n",
       "      <td>2451.0</td>\n",
       "      <td>6/14/83</td>\n",
       "      <td>34.0</td>\n",
       "      <td>Male</td>\n",
       "      <td>Single</td>\n",
       "      <td>Non-Citizen</td>\n",
       "      <td>No</td>\n",
       "      <td>Black or African American</td>\n",
       "      <td>...</td>\n",
       "      <td>45.42</td>\n",
       "      <td>Alex Sweetwater</td>\n",
       "      <td>Diversity Job Fair</td>\n",
       "      <td>0</td>\n",
       "      <td>0</td>\n",
       "      <td>0</td>\n",
       "      <td>1</td>\n",
       "      <td>0</td>\n",
       "      <td>0</td>\n",
       "      <td>0</td>\n",
       "    </tr>\n",
       "    <tr>\n",
       "      <th>Sweetwater, Alex</th>\n",
       "      <td>1.001645e+09</td>\n",
       "      <td>MA</td>\n",
       "      <td>2184.0</td>\n",
       "      <td>11/22/66</td>\n",
       "      <td>51.0</td>\n",
       "      <td>Male</td>\n",
       "      <td>Single</td>\n",
       "      <td>US Citizen</td>\n",
       "      <td>No</td>\n",
       "      <td>White</td>\n",
       "      <td>...</td>\n",
       "      <td>27.00</td>\n",
       "      <td>Jennifer Zamora</td>\n",
       "      <td>Search Engine - Google Bing Yahoo</td>\n",
       "      <td>0</td>\n",
       "      <td>0</td>\n",
       "      <td>0</td>\n",
       "      <td>1</td>\n",
       "      <td>0</td>\n",
       "      <td>0</td>\n",
       "      <td>0</td>\n",
       "    </tr>\n",
       "    <tr>\n",
       "      <th>NaN</th>\n",
       "      <td>NaN</td>\n",
       "      <td>NaN</td>\n",
       "      <td>NaN</td>\n",
       "      <td>NaN</td>\n",
       "      <td>NaN</td>\n",
       "      <td>NaN</td>\n",
       "      <td>NaN</td>\n",
       "      <td>NaN</td>\n",
       "      <td>NaN</td>\n",
       "      <td>NaN</td>\n",
       "      <td>...</td>\n",
       "      <td>NaN</td>\n",
       "      <td>NaN</td>\n",
       "      <td>NaN</td>\n",
       "      <td>0</td>\n",
       "      <td>0</td>\n",
       "      <td>0</td>\n",
       "      <td>0</td>\n",
       "      <td>0</td>\n",
       "      <td>0</td>\n",
       "      <td>0</td>\n",
       "    </tr>\n",
       "  </tbody>\n",
       "</table>\n",
       "<p>302 rows × 26 columns</p>\n",
       "</div>"
      ],
      "text/plain": [
       "                      Employee Number State     Zip       DOB   Age     Sex  \\\n",
       "Employee Name                                                                 \n",
       "Brown, Mia               1.103024e+09    MA  1450.0  11/24/85  32.0  Female   \n",
       "LaRotonda, William       1.106027e+09    MA  1460.0   4/26/84  33.0    Male   \n",
       "Steans, Tyrone           1.302053e+09    MA  2703.0    9/1/86  31.0    Male   \n",
       "Howard, Estelle          1.211051e+09    MA  2170.0   9/16/85  32.0  Female   \n",
       "Singh, Nan               1.307060e+09    MA  2330.0   5/19/88  29.0  Female   \n",
       "...                               ...   ...     ...       ...   ...     ...   \n",
       "Saada, Adell             1.012023e+09    MA  2132.0   7/24/86  31.0  Female   \n",
       "Szabo, Andrew            1.201031e+09    MA  2140.0    5/6/83  34.0    Male   \n",
       "True, Edward             1.102024e+09    MA  2451.0   6/14/83  34.0    Male   \n",
       "Sweetwater, Alex         1.001645e+09    MA  2184.0  11/22/66  51.0    Male   \n",
       "NaN                               NaN   NaN     NaN       NaN   NaN     NaN   \n",
       "\n",
       "                     MaritalDesc  CitizenDesc Hispanic/Latino  \\\n",
       "Employee Name                                                   \n",
       "Brown, Mia               Married   US Citizen              No   \n",
       "LaRotonda, William      Divorced   US Citizen              No   \n",
       "Steans, Tyrone            Single   US Citizen              No   \n",
       "Howard, Estelle          Married   US Citizen              No   \n",
       "Singh, Nan                Single   US Citizen              No   \n",
       "...                          ...          ...             ...   \n",
       "Saada, Adell             Married   US Citizen              No   \n",
       "Szabo, Andrew             Single   US Citizen              No   \n",
       "True, Edward              Single  Non-Citizen              No   \n",
       "Sweetwater, Alex          Single   US Citizen              No   \n",
       "NaN                          NaN          NaN             NaN   \n",
       "\n",
       "                                       RaceDesc  ... Pay Rate  \\\n",
       "Employee Name                                    ...            \n",
       "Brown, Mia            Black or African American  ...    28.50   \n",
       "LaRotonda, William    Black or African American  ...    23.00   \n",
       "Steans, Tyrone                            White  ...    29.00   \n",
       "Howard, Estelle                           White  ...    21.50   \n",
       "Singh, Nan                                White  ...    16.56   \n",
       "...                                         ...  ...      ...   \n",
       "Saada, Adell                              White  ...    49.25   \n",
       "Szabo, Andrew                             White  ...    48.00   \n",
       "True, Edward          Black or African American  ...    45.42   \n",
       "Sweetwater, Alex                          White  ...    27.00   \n",
       "NaN                                         NaN  ...      NaN   \n",
       "\n",
       "                            Manager Name                    Employee Source  \\\n",
       "Employee Name                                                                 \n",
       "Brown, Mia            Brandon R. LeBlanc                 Diversity Job Fair   \n",
       "LaRotonda, William    Brandon R. LeBlanc                 Website Banner Ads   \n",
       "Steans, Tyrone        Brandon R. LeBlanc                    Internet Search   \n",
       "Howard, Estelle       Brandon R. LeBlanc             Pay Per Click - Google   \n",
       "Singh, Nan            Brandon R. LeBlanc                 Website Banner Ads   \n",
       "...                                  ...                                ...   \n",
       "Saada, Adell             Alex Sweetwater             Pay Per Click - Google   \n",
       "Szabo, Andrew            Alex Sweetwater                           MBTA ads   \n",
       "True, Edward             Alex Sweetwater                 Diversity Job Fair   \n",
       "Sweetwater, Alex         Jennifer Zamora  Search Engine - Google Bing Yahoo   \n",
       "NaN                                  NaN                                NaN   \n",
       "\n",
       "                     Performance Score_90-day meets Performance Score_Exceeds  \\\n",
       "Employee Name                                                                   \n",
       "Brown, Mia                                        0                         0   \n",
       "LaRotonda, William                                0                         0   \n",
       "Steans, Tyrone                                    0                         0   \n",
       "Howard, Estelle                                   0                         0   \n",
       "Singh, Nan                                        0                         0   \n",
       "...                                             ...                       ...   \n",
       "Saada, Adell                                      0                         0   \n",
       "Szabo, Andrew                                     0                         0   \n",
       "True, Edward                                      0                         0   \n",
       "Sweetwater, Alex                                  0                         0   \n",
       "NaN                                               0                         0   \n",
       "\n",
       "                     Performance Score_Exceptional  \\\n",
       "Employee Name                                        \n",
       "Brown, Mia                                       0   \n",
       "LaRotonda, William                               0   \n",
       "Steans, Tyrone                                   0   \n",
       "Howard, Estelle                                  0   \n",
       "Singh, Nan                                       0   \n",
       "...                                            ...   \n",
       "Saada, Adell                                     0   \n",
       "Szabo, Andrew                                    1   \n",
       "True, Edward                                     0   \n",
       "Sweetwater, Alex                                 0   \n",
       "NaN                                              0   \n",
       "\n",
       "                      Performance Score_Fully Meets  \\\n",
       "Employee Name                                         \n",
       "Brown, Mia                                        1   \n",
       "LaRotonda, William                                1   \n",
       "Steans, Tyrone                                    1   \n",
       "Howard, Estelle                                   0   \n",
       "Singh, Nan                                        0   \n",
       "...                                             ...   \n",
       "Saada, Adell                                      1   \n",
       "Szabo, Andrew                                     0   \n",
       "True, Edward                                      1   \n",
       "Sweetwater, Alex                                  1   \n",
       "NaN                                               0   \n",
       "\n",
       "                     Performance Score_N/A- too early to review  \\\n",
       "Employee Name                                                     \n",
       "Brown, Mia                                                    0   \n",
       "LaRotonda, William                                            0   \n",
       "Steans, Tyrone                                                0   \n",
       "Howard, Estelle                                               1   \n",
       "Singh, Nan                                                    1   \n",
       "...                                                         ...   \n",
       "Saada, Adell                                                  0   \n",
       "Szabo, Andrew                                                 0   \n",
       "True, Edward                                                  0   \n",
       "Sweetwater, Alex                                              0   \n",
       "NaN                                                           0   \n",
       "\n",
       "                     Performance Score_Needs Improvement  \\\n",
       "Employee Name                                              \n",
       "Brown, Mia                                             0   \n",
       "LaRotonda, William                                     0   \n",
       "Steans, Tyrone                                         0   \n",
       "Howard, Estelle                                        0   \n",
       "Singh, Nan                                             0   \n",
       "...                                                  ...   \n",
       "Saada, Adell                                           0   \n",
       "Szabo, Andrew                                          0   \n",
       "True, Edward                                           0   \n",
       "Sweetwater, Alex                                       0   \n",
       "NaN                                                    0   \n",
       "\n",
       "                      Performance Score_PIP  \n",
       "Employee Name                                \n",
       "Brown, Mia                                0  \n",
       "LaRotonda, William                        0  \n",
       "Steans, Tyrone                            0  \n",
       "Howard, Estelle                           0  \n",
       "Singh, Nan                                0  \n",
       "...                                     ...  \n",
       "Saada, Adell                              0  \n",
       "Szabo, Andrew                             0  \n",
       "True, Edward                              0  \n",
       "Sweetwater, Alex                          0  \n",
       "NaN                                       0  \n",
       "\n",
       "[302 rows x 26 columns]"
      ]
     },
     "execution_count": 23,
     "metadata": {},
     "output_type": "execute_result"
    }
   ],
   "source": [
    "data = data.set_index('Employee Name')\n",
    "data = pd.get_dummies(data, columns = ['Performance Score'])\n",
    "data"
   ]
  },
  {
   "cell_type": "code",
   "execution_count": 25,
   "metadata": {},
   "outputs": [
    {
     "data": {
      "text/plain": [
       "['Employee Number',\n",
       " 'State',\n",
       " 'Zip',\n",
       " 'DOB',\n",
       " 'Age',\n",
       " 'Sex',\n",
       " 'MaritalDesc',\n",
       " 'CitizenDesc',\n",
       " 'Hispanic/Latino',\n",
       " 'RaceDesc',\n",
       " 'Date of Hire',\n",
       " 'Date of Termination',\n",
       " 'Reason For Term',\n",
       " 'Employment Status',\n",
       " 'Department',\n",
       " 'Position',\n",
       " 'Pay Rate',\n",
       " 'Manager Name',\n",
       " 'Employee Source',\n",
       " 'Performance Score_90-day meets',\n",
       " 'Performance Score_Exceeds',\n",
       " 'Performance Score_Exceptional',\n",
       " 'Performance Score_Fully Meets',\n",
       " 'Performance Score_N/A- too early to review',\n",
       " 'Performance Score_Needs Improvement',\n",
       " 'Performance Score_PIP']"
      ]
     },
     "execution_count": 25,
     "metadata": {},
     "output_type": "execute_result"
    }
   ],
   "source": [
    "list(data.columns)"
   ]
  },
  {
   "cell_type": "code",
   "execution_count": null,
   "metadata": {},
   "outputs": [],
   "source": []
  },
  {
   "cell_type": "markdown",
   "metadata": {},
   "source": [
    "# Heatmap"
   ]
  },
  {
   "cell_type": "code",
   "execution_count": 419,
   "metadata": {},
   "outputs": [],
   "source": [
    "full_df = pd.read_csv('datafiles/HR_dataset.csv', index_col=0)\n",
    "perf_score = pd.DataFrame(full_df['Performance Score'])\n",
    "manager_list = pd.DataFrame(full_df['Manager Name'])\n",
    "manager_performances = pd.concat([perf_score,manager_list], axis=1)"
   ]
  },
  {
   "cell_type": "code",
   "execution_count": 420,
   "metadata": {},
   "outputs": [],
   "source": [
    "manager_performances.columns=['performance','manager']"
   ]
  },
  {
   "cell_type": "code",
   "execution_count": 421,
   "metadata": {},
   "outputs": [
    {
     "data": {
      "text/plain": [
       "Kissy Sullivan        22\n",
       "Kelley Spirea         22\n",
       "Michael Albert        22\n",
       "Elijiah Gray          22\n",
       "Amy Dunn              21\n",
       "Webster Butler        21\n",
       "Brannon Miller        21\n",
       "David Stanley         21\n",
       "Ketsia Liebig         21\n",
       "Janet King            19\n",
       "Simon Roup            17\n",
       "Peter Monroe          14\n",
       "John Smith            14\n",
       "Lynn Daneault         13\n",
       "Alex Sweetwater        9\n",
       "Brandon R. LeBlanc     7\n",
       "Jennifer Zamora        6\n",
       "Eric Dougall           4\n",
       "Debra Houlihan         3\n",
       "Board of Directors     2\n",
       "Name: manager, dtype: int64"
      ]
     },
     "execution_count": 421,
     "metadata": {},
     "output_type": "execute_result"
    }
   ],
   "source": [
    "manager_performances['manager'].value_counts()"
   ]
  },
  {
   "cell_type": "code",
   "execution_count": 422,
   "metadata": {},
   "outputs": [],
   "source": [
    "df1 = pd.get_dummies(manager_performances, columns = ['manager'], drop_first=True )\n",
    "#Alex Sweetwater was dropped "
   ]
  },
  {
   "cell_type": "code",
   "execution_count": 424,
   "metadata": {},
   "outputs": [],
   "source": [
    "# df1 = df1.groupby('performance')"
   ]
  },
  {
   "cell_type": "code",
   "execution_count": 425,
   "metadata": {},
   "outputs": [],
   "source": [
    "df1_corr = df1.corr()\n",
    "df1_corr = df1_corr.fillna(0)"
   ]
  },
  {
   "cell_type": "code",
   "execution_count": 426,
   "metadata": {},
   "outputs": [
    {
     "data": {
      "text/plain": [
       "array(['Fully Meets', 'N/A- too early to review', '90-day meets',\n",
       "       'Exceptional', 'Needs Improvement', 'Exceeds', 'PIP', nan],\n",
       "      dtype=object)"
      ]
     },
     "execution_count": 426,
     "metadata": {},
     "output_type": "execute_result"
    }
   ],
   "source": [
    "df1['performance'].unique()"
   ]
  },
  {
   "cell_type": "code",
   "execution_count": 427,
   "metadata": {},
   "outputs": [],
   "source": [
    "df1['performance'] = df1['performance'].replace(['Fully Meets',\n",
    "                                                 'N/A- too early to review',\n",
    "                                                 '90-day meets','Exceptional', \n",
    "                                                 'Needs Improvement',\n",
    "                                                 'Exceeds', \n",
    "                                                 'PIP'],\n",
    "                                                ['fully_meets','too_early',\n",
    "                                                'ninety_day', 'exceptional',\n",
    "                                                'needs_improvement',\n",
    "                                                 'exceeds',\n",
    "                                                'pip'])\n",
    "# df1['performance'] = df1['performance'].replace('Fully Meets','fully_meets')"
   ]
  },
  {
   "cell_type": "code",
   "execution_count": 428,
   "metadata": {},
   "outputs": [
    {
     "data": {
      "text/html": [
       "<div>\n",
       "<style scoped>\n",
       "    .dataframe tbody tr th:only-of-type {\n",
       "        vertical-align: middle;\n",
       "    }\n",
       "\n",
       "    .dataframe tbody tr th {\n",
       "        vertical-align: top;\n",
       "    }\n",
       "\n",
       "    .dataframe thead th {\n",
       "        text-align: right;\n",
       "    }\n",
       "</style>\n",
       "<table border=\"1\" class=\"dataframe\">\n",
       "  <thead>\n",
       "    <tr style=\"text-align: right;\">\n",
       "      <th></th>\n",
       "      <th>performance</th>\n",
       "      <th>manager_Amy Dunn</th>\n",
       "      <th>manager_Board of Directors</th>\n",
       "      <th>manager_Brandon R. LeBlanc</th>\n",
       "      <th>manager_Brannon Miller</th>\n",
       "      <th>manager_David Stanley</th>\n",
       "      <th>manager_Debra Houlihan</th>\n",
       "      <th>manager_Elijiah Gray</th>\n",
       "      <th>manager_Eric Dougall</th>\n",
       "      <th>manager_Janet King</th>\n",
       "      <th>manager_Jennifer Zamora</th>\n",
       "      <th>manager_John Smith</th>\n",
       "      <th>manager_Kelley Spirea</th>\n",
       "      <th>manager_Ketsia Liebig</th>\n",
       "      <th>manager_Kissy Sullivan</th>\n",
       "      <th>manager_Lynn Daneault</th>\n",
       "      <th>manager_Michael Albert</th>\n",
       "      <th>manager_Peter Monroe</th>\n",
       "      <th>manager_Simon Roup</th>\n",
       "      <th>manager_Webster Butler</th>\n",
       "    </tr>\n",
       "    <tr>\n",
       "      <th>Employee Name</th>\n",
       "      <th></th>\n",
       "      <th></th>\n",
       "      <th></th>\n",
       "      <th></th>\n",
       "      <th></th>\n",
       "      <th></th>\n",
       "      <th></th>\n",
       "      <th></th>\n",
       "      <th></th>\n",
       "      <th></th>\n",
       "      <th></th>\n",
       "      <th></th>\n",
       "      <th></th>\n",
       "      <th></th>\n",
       "      <th></th>\n",
       "      <th></th>\n",
       "      <th></th>\n",
       "      <th></th>\n",
       "      <th></th>\n",
       "      <th></th>\n",
       "    </tr>\n",
       "  </thead>\n",
       "  <tbody>\n",
       "    <tr>\n",
       "      <th>Brown, Mia</th>\n",
       "      <td>fully_meets</td>\n",
       "      <td>0</td>\n",
       "      <td>0</td>\n",
       "      <td>1</td>\n",
       "      <td>0</td>\n",
       "      <td>0</td>\n",
       "      <td>0</td>\n",
       "      <td>0</td>\n",
       "      <td>0</td>\n",
       "      <td>0</td>\n",
       "      <td>0</td>\n",
       "      <td>0</td>\n",
       "      <td>0</td>\n",
       "      <td>0</td>\n",
       "      <td>0</td>\n",
       "      <td>0</td>\n",
       "      <td>0</td>\n",
       "      <td>0</td>\n",
       "      <td>0</td>\n",
       "      <td>0</td>\n",
       "    </tr>\n",
       "    <tr>\n",
       "      <th>LaRotonda, William</th>\n",
       "      <td>fully_meets</td>\n",
       "      <td>0</td>\n",
       "      <td>0</td>\n",
       "      <td>1</td>\n",
       "      <td>0</td>\n",
       "      <td>0</td>\n",
       "      <td>0</td>\n",
       "      <td>0</td>\n",
       "      <td>0</td>\n",
       "      <td>0</td>\n",
       "      <td>0</td>\n",
       "      <td>0</td>\n",
       "      <td>0</td>\n",
       "      <td>0</td>\n",
       "      <td>0</td>\n",
       "      <td>0</td>\n",
       "      <td>0</td>\n",
       "      <td>0</td>\n",
       "      <td>0</td>\n",
       "      <td>0</td>\n",
       "    </tr>\n",
       "    <tr>\n",
       "      <th>Steans, Tyrone</th>\n",
       "      <td>fully_meets</td>\n",
       "      <td>0</td>\n",
       "      <td>0</td>\n",
       "      <td>1</td>\n",
       "      <td>0</td>\n",
       "      <td>0</td>\n",
       "      <td>0</td>\n",
       "      <td>0</td>\n",
       "      <td>0</td>\n",
       "      <td>0</td>\n",
       "      <td>0</td>\n",
       "      <td>0</td>\n",
       "      <td>0</td>\n",
       "      <td>0</td>\n",
       "      <td>0</td>\n",
       "      <td>0</td>\n",
       "      <td>0</td>\n",
       "      <td>0</td>\n",
       "      <td>0</td>\n",
       "      <td>0</td>\n",
       "    </tr>\n",
       "    <tr>\n",
       "      <th>Howard, Estelle</th>\n",
       "      <td>too_early</td>\n",
       "      <td>0</td>\n",
       "      <td>0</td>\n",
       "      <td>1</td>\n",
       "      <td>0</td>\n",
       "      <td>0</td>\n",
       "      <td>0</td>\n",
       "      <td>0</td>\n",
       "      <td>0</td>\n",
       "      <td>0</td>\n",
       "      <td>0</td>\n",
       "      <td>0</td>\n",
       "      <td>0</td>\n",
       "      <td>0</td>\n",
       "      <td>0</td>\n",
       "      <td>0</td>\n",
       "      <td>0</td>\n",
       "      <td>0</td>\n",
       "      <td>0</td>\n",
       "      <td>0</td>\n",
       "    </tr>\n",
       "    <tr>\n",
       "      <th>Singh, Nan</th>\n",
       "      <td>too_early</td>\n",
       "      <td>0</td>\n",
       "      <td>0</td>\n",
       "      <td>1</td>\n",
       "      <td>0</td>\n",
       "      <td>0</td>\n",
       "      <td>0</td>\n",
       "      <td>0</td>\n",
       "      <td>0</td>\n",
       "      <td>0</td>\n",
       "      <td>0</td>\n",
       "      <td>0</td>\n",
       "      <td>0</td>\n",
       "      <td>0</td>\n",
       "      <td>0</td>\n",
       "      <td>0</td>\n",
       "      <td>0</td>\n",
       "      <td>0</td>\n",
       "      <td>0</td>\n",
       "      <td>0</td>\n",
       "    </tr>\n",
       "    <tr>\n",
       "      <th>...</th>\n",
       "      <td>...</td>\n",
       "      <td>...</td>\n",
       "      <td>...</td>\n",
       "      <td>...</td>\n",
       "      <td>...</td>\n",
       "      <td>...</td>\n",
       "      <td>...</td>\n",
       "      <td>...</td>\n",
       "      <td>...</td>\n",
       "      <td>...</td>\n",
       "      <td>...</td>\n",
       "      <td>...</td>\n",
       "      <td>...</td>\n",
       "      <td>...</td>\n",
       "      <td>...</td>\n",
       "      <td>...</td>\n",
       "      <td>...</td>\n",
       "      <td>...</td>\n",
       "      <td>...</td>\n",
       "      <td>...</td>\n",
       "    </tr>\n",
       "    <tr>\n",
       "      <th>Saada, Adell</th>\n",
       "      <td>fully_meets</td>\n",
       "      <td>0</td>\n",
       "      <td>0</td>\n",
       "      <td>0</td>\n",
       "      <td>0</td>\n",
       "      <td>0</td>\n",
       "      <td>0</td>\n",
       "      <td>0</td>\n",
       "      <td>0</td>\n",
       "      <td>0</td>\n",
       "      <td>0</td>\n",
       "      <td>0</td>\n",
       "      <td>0</td>\n",
       "      <td>0</td>\n",
       "      <td>0</td>\n",
       "      <td>0</td>\n",
       "      <td>0</td>\n",
       "      <td>0</td>\n",
       "      <td>0</td>\n",
       "      <td>0</td>\n",
       "    </tr>\n",
       "    <tr>\n",
       "      <th>Szabo, Andrew</th>\n",
       "      <td>exceptional</td>\n",
       "      <td>0</td>\n",
       "      <td>0</td>\n",
       "      <td>0</td>\n",
       "      <td>0</td>\n",
       "      <td>0</td>\n",
       "      <td>0</td>\n",
       "      <td>0</td>\n",
       "      <td>0</td>\n",
       "      <td>0</td>\n",
       "      <td>0</td>\n",
       "      <td>0</td>\n",
       "      <td>0</td>\n",
       "      <td>0</td>\n",
       "      <td>0</td>\n",
       "      <td>0</td>\n",
       "      <td>0</td>\n",
       "      <td>0</td>\n",
       "      <td>0</td>\n",
       "      <td>0</td>\n",
       "    </tr>\n",
       "    <tr>\n",
       "      <th>True, Edward</th>\n",
       "      <td>fully_meets</td>\n",
       "      <td>0</td>\n",
       "      <td>0</td>\n",
       "      <td>0</td>\n",
       "      <td>0</td>\n",
       "      <td>0</td>\n",
       "      <td>0</td>\n",
       "      <td>0</td>\n",
       "      <td>0</td>\n",
       "      <td>0</td>\n",
       "      <td>0</td>\n",
       "      <td>0</td>\n",
       "      <td>0</td>\n",
       "      <td>0</td>\n",
       "      <td>0</td>\n",
       "      <td>0</td>\n",
       "      <td>0</td>\n",
       "      <td>0</td>\n",
       "      <td>0</td>\n",
       "      <td>0</td>\n",
       "    </tr>\n",
       "    <tr>\n",
       "      <th>Sweetwater, Alex</th>\n",
       "      <td>fully_meets</td>\n",
       "      <td>0</td>\n",
       "      <td>0</td>\n",
       "      <td>0</td>\n",
       "      <td>0</td>\n",
       "      <td>0</td>\n",
       "      <td>0</td>\n",
       "      <td>0</td>\n",
       "      <td>0</td>\n",
       "      <td>0</td>\n",
       "      <td>1</td>\n",
       "      <td>0</td>\n",
       "      <td>0</td>\n",
       "      <td>0</td>\n",
       "      <td>0</td>\n",
       "      <td>0</td>\n",
       "      <td>0</td>\n",
       "      <td>0</td>\n",
       "      <td>0</td>\n",
       "      <td>0</td>\n",
       "    </tr>\n",
       "    <tr>\n",
       "      <th>NaN</th>\n",
       "      <td>NaN</td>\n",
       "      <td>0</td>\n",
       "      <td>0</td>\n",
       "      <td>0</td>\n",
       "      <td>0</td>\n",
       "      <td>0</td>\n",
       "      <td>0</td>\n",
       "      <td>0</td>\n",
       "      <td>0</td>\n",
       "      <td>0</td>\n",
       "      <td>0</td>\n",
       "      <td>0</td>\n",
       "      <td>0</td>\n",
       "      <td>0</td>\n",
       "      <td>0</td>\n",
       "      <td>0</td>\n",
       "      <td>0</td>\n",
       "      <td>0</td>\n",
       "      <td>0</td>\n",
       "      <td>0</td>\n",
       "    </tr>\n",
       "  </tbody>\n",
       "</table>\n",
       "<p>302 rows × 20 columns</p>\n",
       "</div>"
      ],
      "text/plain": [
       "                      performance  manager_Amy Dunn  \\\n",
       "Employee Name                                         \n",
       "Brown, Mia            fully_meets                 0   \n",
       "LaRotonda, William    fully_meets                 0   \n",
       "Steans, Tyrone        fully_meets                 0   \n",
       "Howard, Estelle         too_early                 0   \n",
       "Singh, Nan              too_early                 0   \n",
       "...                           ...               ...   \n",
       "Saada, Adell          fully_meets                 0   \n",
       "Szabo, Andrew         exceptional                 0   \n",
       "True, Edward          fully_meets                 0   \n",
       "Sweetwater, Alex      fully_meets                 0   \n",
       "NaN                           NaN                 0   \n",
       "\n",
       "                      manager_Board of Directors  manager_Brandon R. LeBlanc  \\\n",
       "Employee Name                                                                  \n",
       "Brown, Mia                                     0                           1   \n",
       "LaRotonda, William                             0                           1   \n",
       "Steans, Tyrone                                 0                           1   \n",
       "Howard, Estelle                                0                           1   \n",
       "Singh, Nan                                     0                           1   \n",
       "...                                          ...                         ...   \n",
       "Saada, Adell                                   0                           0   \n",
       "Szabo, Andrew                                  0                           0   \n",
       "True, Edward                                   0                           0   \n",
       "Sweetwater, Alex                               0                           0   \n",
       "NaN                                            0                           0   \n",
       "\n",
       "                      manager_Brannon Miller  manager_David Stanley  \\\n",
       "Employee Name                                                         \n",
       "Brown, Mia                                 0                      0   \n",
       "LaRotonda, William                         0                      0   \n",
       "Steans, Tyrone                             0                      0   \n",
       "Howard, Estelle                            0                      0   \n",
       "Singh, Nan                                 0                      0   \n",
       "...                                      ...                    ...   \n",
       "Saada, Adell                               0                      0   \n",
       "Szabo, Andrew                              0                      0   \n",
       "True, Edward                               0                      0   \n",
       "Sweetwater, Alex                           0                      0   \n",
       "NaN                                        0                      0   \n",
       "\n",
       "                      manager_Debra Houlihan  manager_Elijiah Gray  \\\n",
       "Employee Name                                                        \n",
       "Brown, Mia                                 0                     0   \n",
       "LaRotonda, William                         0                     0   \n",
       "Steans, Tyrone                             0                     0   \n",
       "Howard, Estelle                            0                     0   \n",
       "Singh, Nan                                 0                     0   \n",
       "...                                      ...                   ...   \n",
       "Saada, Adell                               0                     0   \n",
       "Szabo, Andrew                              0                     0   \n",
       "True, Edward                               0                     0   \n",
       "Sweetwater, Alex                           0                     0   \n",
       "NaN                                        0                     0   \n",
       "\n",
       "                      manager_Eric Dougall  manager_Janet King  \\\n",
       "Employee Name                                                    \n",
       "Brown, Mia                               0                   0   \n",
       "LaRotonda, William                       0                   0   \n",
       "Steans, Tyrone                           0                   0   \n",
       "Howard, Estelle                          0                   0   \n",
       "Singh, Nan                               0                   0   \n",
       "...                                    ...                 ...   \n",
       "Saada, Adell                             0                   0   \n",
       "Szabo, Andrew                            0                   0   \n",
       "True, Edward                             0                   0   \n",
       "Sweetwater, Alex                         0                   0   \n",
       "NaN                                      0                   0   \n",
       "\n",
       "                      manager_Jennifer Zamora  manager_John Smith  \\\n",
       "Employee Name                                                       \n",
       "Brown, Mia                                  0                   0   \n",
       "LaRotonda, William                          0                   0   \n",
       "Steans, Tyrone                              0                   0   \n",
       "Howard, Estelle                             0                   0   \n",
       "Singh, Nan                                  0                   0   \n",
       "...                                       ...                 ...   \n",
       "Saada, Adell                                0                   0   \n",
       "Szabo, Andrew                               0                   0   \n",
       "True, Edward                                0                   0   \n",
       "Sweetwater, Alex                            1                   0   \n",
       "NaN                                         0                   0   \n",
       "\n",
       "                      manager_Kelley Spirea  manager_Ketsia Liebig  \\\n",
       "Employee Name                                                        \n",
       "Brown, Mia                                0                      0   \n",
       "LaRotonda, William                        0                      0   \n",
       "Steans, Tyrone                            0                      0   \n",
       "Howard, Estelle                           0                      0   \n",
       "Singh, Nan                                0                      0   \n",
       "...                                     ...                    ...   \n",
       "Saada, Adell                              0                      0   \n",
       "Szabo, Andrew                             0                      0   \n",
       "True, Edward                              0                      0   \n",
       "Sweetwater, Alex                          0                      0   \n",
       "NaN                                       0                      0   \n",
       "\n",
       "                      manager_Kissy Sullivan  manager_Lynn Daneault  \\\n",
       "Employee Name                                                         \n",
       "Brown, Mia                                 0                      0   \n",
       "LaRotonda, William                         0                      0   \n",
       "Steans, Tyrone                             0                      0   \n",
       "Howard, Estelle                            0                      0   \n",
       "Singh, Nan                                 0                      0   \n",
       "...                                      ...                    ...   \n",
       "Saada, Adell                               0                      0   \n",
       "Szabo, Andrew                              0                      0   \n",
       "True, Edward                               0                      0   \n",
       "Sweetwater, Alex                           0                      0   \n",
       "NaN                                        0                      0   \n",
       "\n",
       "                      manager_Michael Albert  manager_Peter Monroe  \\\n",
       "Employee Name                                                        \n",
       "Brown, Mia                                 0                     0   \n",
       "LaRotonda, William                         0                     0   \n",
       "Steans, Tyrone                             0                     0   \n",
       "Howard, Estelle                            0                     0   \n",
       "Singh, Nan                                 0                     0   \n",
       "...                                      ...                   ...   \n",
       "Saada, Adell                               0                     0   \n",
       "Szabo, Andrew                              0                     0   \n",
       "True, Edward                               0                     0   \n",
       "Sweetwater, Alex                           0                     0   \n",
       "NaN                                        0                     0   \n",
       "\n",
       "                      manager_Simon Roup  manager_Webster Butler  \n",
       "Employee Name                                                     \n",
       "Brown, Mia                             0                       0  \n",
       "LaRotonda, William                     0                       0  \n",
       "Steans, Tyrone                         0                       0  \n",
       "Howard, Estelle                        0                       0  \n",
       "Singh, Nan                             0                       0  \n",
       "...                                  ...                     ...  \n",
       "Saada, Adell                           0                       0  \n",
       "Szabo, Andrew                          0                       0  \n",
       "True, Edward                           0                       0  \n",
       "Sweetwater, Alex                       0                       0  \n",
       "NaN                                    0                       0  \n",
       "\n",
       "[302 rows x 20 columns]"
      ]
     },
     "execution_count": 428,
     "metadata": {},
     "output_type": "execute_result"
    }
   ],
   "source": [
    "df1"
   ]
  },
  {
   "cell_type": "code",
   "execution_count": 429,
   "metadata": {},
   "outputs": [],
   "source": [
    "df1 = pd.get_dummies(df1, columns = ['performance'], drop_first=True )\n",
    "#exceeds was dropped "
   ]
  },
  {
   "cell_type": "code",
   "execution_count": 443,
   "metadata": {},
   "outputs": [],
   "source": [
    "df_corr = df1.corr()"
   ]
  },
  {
   "cell_type": "code",
   "execution_count": 462,
   "metadata": {},
   "outputs": [
    {
     "data": {
      "text/plain": [
       "<matplotlib.axes._subplots.AxesSubplot at 0x135df3ca0>"
      ]
     },
     "execution_count": 462,
     "metadata": {},
     "output_type": "execute_result"
    },
    {
     "data": {
      "image/png": "[encoded data removed]",
      "text/plain": [
       "<Figure size 432x288 with 2 Axes>"
      ]
     },
     "metadata": {
      "needs_background": "light"
     },
     "output_type": "display_data"
    }
   ],
   "source": [
    "sns.heatmap(df_corr)"
   ]
  },
  {
   "cell_type": "markdown",
   "metadata": {},
   "source": [
    "**Variance** - measure of dispersion of continuous random variables from its expected mean value\n",
    "\n",
    "**Covariance** - when trying to figure out how two random variables vary together\n",
    "- A **positive** covariance indicates that two variables are positively related\n",
    "- A **negative** covariance indicates that two variables are inversely related\n",
    "- A covariance **equal or close to 0** indicates that there is no linear relationship between two variables\n",
    "\n",
    "**Correlation** is calculated by standardizing covariance by some measure of variability in the data, it produces a quantity that has intuitive interpretations and consistent scale.\n",
    "- **Pearson Correlation Coefficient**,  𝑟 , also called the linear correlation coefficient, measures the strength and the direction of a linear relationship between two variables. This coefficient quantifies the degree to which a relationship between two variables can be described by a line.\n"
   ]
  },
  {
   "cell_type": "markdown",
   "metadata": {},
   "source": [
    "**1. Mean normalized**"
   ]
  },
  {
   "cell_type": "code",
   "execution_count": 37,
   "metadata": {},
   "outputs": [],
   "source": [
    "# Write a function to take in an iterable, calculate the mean and subtract the mean value\n",
    "# from each element, creating and returning a new list. \n",
    "def mean_normalize(var):\n",
    "    norm = [] # Vector for storing output values \n",
    "    mean = sum(var)/len(var)   \n",
    "    for i in var: # for each element in the vector, subtract from mean and add the result to norm\n",
    "        diff = i - mean\n",
    "        norm.append(diff)\n",
    "    return norm"
   ]
  },
  {
   "cell_type": "code",
   "execution_count": 58,
   "metadata": {},
   "outputs": [
    {
     "data": {
      "text/plain": [
       "Text(0.5, 1.0, 'Age Normalized')"
      ]
     },
     "execution_count": 58,
     "metadata": {},
     "output_type": "execute_result"
    },
    {
     "data": {
      "image/png": "[encoded data removed]",
      "text/plain": [
       "<Figure size 432x288 with 1 Axes>"
      ]
     },
     "metadata": {
      "needs_background": "light"
     },
     "output_type": "display_data"
    }
   ],
   "source": [
    "age_normalized = mean_normalize(hr_data['age'])\n",
    "# Visualize the age data distribution before and after mean normalization \n",
    "sns.distplot(age_normalized)\n",
    "sns.distplot(hr_data['age'])\n",
    "plt.title('Age Normalized')"
   ]
  },
  {
   "cell_type": "markdown",
   "metadata": {},
   "source": [
    "- Notice the shape of the data isn't changed, but the mean is just shifted (normalization process)"
   ]
  },
  {
   "cell_type": "code",
   "execution_count": 44,
   "metadata": {},
   "outputs": [
    {
     "data": {
      "text/plain": [
       "Text(0.5, 1.0, 'Pay Rate Normalized')"
      ]
     },
     "execution_count": 44,
     "metadata": {},
     "output_type": "execute_result"
    },
    {
     "data": {
      "image/png": "[encoded data removed]",
      "text/plain": [
       "<Figure size 432x288 with 1 Axes>"
      ]
     },
     "metadata": {
      "needs_background": "light"
     },
     "output_type": "display_data"
    }
   ],
   "source": [
    "pay_normalized = mean_normalize(hr_data['pay_rate'])\n",
    "# Visualize the PAY data distribution before and after mean normalization \n",
    "sns.distplot(pay_normalized)\n",
    "sns.distplot(hr_data['pay_rate'])\n",
    "plt.title('Pay Rate Normalized')"
   ]
  },
  {
   "cell_type": "code",
   "execution_count": 46,
   "metadata": {},
   "outputs": [],
   "source": [
    "# FUNCTION: dot product of two iterables \n",
    "def dot_product(x, y):\n",
    "    prod_vec = 0 # Initliaze an empty list to store the results \n",
    "    # For all elements in the vectors, multiply and save results in prod_vec\n",
    "    for i in range(len(x)):\n",
    "        prod = x[i]* y[i]\n",
    "        prod_vec += prod\n",
    "    return prod_vec"
   ]
  },
  {
   "cell_type": "code",
   "execution_count": 47,
   "metadata": {},
   "outputs": [],
   "source": [
    "def covariance(var1, var2):\n",
    "    # Formula for covariance is:\n",
    "    # [Sum (x_i - X)(y_i - Y)] / N-1 \n",
    "    # Sanity Check: Check to see if both vectors are of same length\n",
    "    # Exit the function if variables have different lengths\n",
    "    if len(var1) != len(var2):\n",
    "        return 'The lengths of both the lists should be equal.' \n",
    "    else: \n",
    "        # Mean normalize both variables \n",
    "        x = mean_normalize(var1)\n",
    "        y = mean_normalize(var2)\n",
    "        # Take the dot product of mean normalized variables\n",
    "        result = dot_product(x, y)\n",
    "        # divide the dot product by n-1    \n",
    "        return result /((len(var1)) - 1)"
   ]
  },
  {
   "cell_type": "code",
   "execution_count": 52,
   "metadata": {},
   "outputs": [
    {
     "data": {
      "text/plain": [
       "2.448728205128202"
      ]
     },
     "execution_count": 52,
     "metadata": {},
     "output_type": "execute_result"
    }
   ],
   "source": [
    "covariance(age_normalized,pay_normalized)"
   ]
  },
  {
   "cell_type": "code",
   "execution_count": 53,
   "metadata": {},
   "outputs": [
    {
     "data": {
      "text/plain": [
       "<matplotlib.collections.PathCollection at 0x123004d00>"
      ]
     },
     "execution_count": 53,
     "metadata": {},
     "output_type": "execute_result"
    },
    {
     "data": {
      "image/png": "[encoded data removed]",
      "text/plain": [
       "<Figure size 432x288 with 1 Axes>"
      ]
     },
     "metadata": {
      "needs_background": "light"
     },
     "output_type": "display_data"
    }
   ],
   "source": [
    "plt.scatter(age_normalized,pay_normalized)"
   ]
  },
  {
   "cell_type": "markdown",
   "metadata": {},
   "source": [
    "- you can see that there is no relationship between age and pay "
   ]
  },
  {
   "cell_type": "code",
   "execution_count": 59,
   "metadata": {},
   "outputs": [
    {
     "data": {
      "text/plain": [
       "0.02"
      ]
     },
     "execution_count": 59,
     "metadata": {},
     "output_type": "execute_result"
    }
   ],
   "source": [
    "# Calculate Correlation between two variables using formula above\n",
    "import math\n",
    "def correlation(var1, var2):  \n",
    "    if len(var1) != len(var2):\n",
    "        return 'The lengths of both the lists should be equal.' \n",
    "    else: \n",
    "       \n",
    "        mean_norm_var1 = mean_normalize(var1)\n",
    "        mean_norm_var2 = mean_normalize(var2)\n",
    "        var1_dot_var2 = dot_product(mean_norm_var1, mean_norm_var2)\n",
    "        var1_squared = [i * i for i in mean_norm_var1]\n",
    "        var2_squared = [i * i for i in mean_norm_var2]\n",
    "        return round(var1_dot_var2 / math.sqrt(sum(var1_squared) * sum(var2_squared)), 2)\n",
    "\n",
    "correlation(age_normalized,pay_normalized)"
   ]
  },
  {
   "cell_type": "code",
   "execution_count": 79,
   "metadata": {},
   "outputs": [
    {
     "data": {
      "text/html": [
       "<div>\n",
       "<style scoped>\n",
       "    .dataframe tbody tr th:only-of-type {\n",
       "        vertical-align: middle;\n",
       "    }\n",
       "\n",
       "    .dataframe tbody tr th {\n",
       "        vertical-align: top;\n",
       "    }\n",
       "\n",
       "    .dataframe thead th {\n",
       "        text-align: right;\n",
       "    }\n",
       "</style>\n",
       "<table border=\"1\" class=\"dataframe\">\n",
       "  <thead>\n",
       "    <tr style=\"text-align: right;\">\n",
       "      <th></th>\n",
       "      <th>pay_rate</th>\n",
       "      <th>age</th>\n",
       "    </tr>\n",
       "  </thead>\n",
       "  <tbody>\n",
       "    <tr>\n",
       "      <th>pay_rate</th>\n",
       "      <td>1.000000</td>\n",
       "      <td>0.017995</td>\n",
       "    </tr>\n",
       "    <tr>\n",
       "      <th>age</th>\n",
       "      <td>0.017995</td>\n",
       "      <td>1.000000</td>\n",
       "    </tr>\n",
       "  </tbody>\n",
       "</table>\n",
       "</div>"
      ],
      "text/plain": [
       "          pay_rate       age\n",
       "pay_rate  1.000000  0.017995\n",
       "age       0.017995  1.000000"
      ]
     },
     "execution_count": 79,
     "metadata": {},
     "output_type": "execute_result"
    }
   ],
   "source": [
    "# Check - LOW CORRELATION BETWEEN AGE AND PAY\n",
    "\n",
    "pay = hr_data['pay_rate']\n",
    "age = hr_data['age']\n",
    "pay_age = pd.concat([pay,age], axis = 1)\n",
    "pay_age.corr()"
   ]
  },
  {
   "cell_type": "code",
   "execution_count": null,
   "metadata": {},
   "outputs": [],
   "source": []
  },
  {
   "cell_type": "code",
   "execution_count": null,
   "metadata": {},
   "outputs": [],
   "source": []
  },
  {
   "cell_type": "markdown",
   "metadata": {},
   "source": [
    "# Multicolinearity"
   ]
  },
  {
   "cell_type": "code",
   "execution_count": 26,
   "metadata": {},
   "outputs": [],
   "source": [
    "x_cols = data.columns"
   ]
  },
  {
   "cell_type": "code",
   "execution_count": 27,
   "metadata": {},
   "outputs": [
    {
     "data": {
      "text/plain": [
       "Index(['Employee Number', 'State', 'Zip', 'DOB', 'Age', 'Sex', 'MaritalDesc',\n",
       "       'CitizenDesc', 'Hispanic/Latino', 'RaceDesc', 'Date of Hire',\n",
       "       'Date of Termination', 'Reason For Term', 'Employment Status',\n",
       "       'Department', 'Position', 'Pay Rate', 'Manager Name', 'Employee Source',\n",
       "       'Performance Score_90-day meets', 'Performance Score_Exceeds',\n",
       "       'Performance Score_Exceptional', 'Performance Score_Fully Meets',\n",
       "       'Performance Score_N/A- too early to review',\n",
       "       'Performance Score_Needs Improvement', 'Performance Score_PIP'],\n",
       "      dtype='object')"
      ]
     },
     "execution_count": 27,
     "metadata": {},
     "output_type": "execute_result"
    }
   ],
   "source": [
    "x_cols"
   ]
  },
  {
   "cell_type": "code",
   "execution_count": null,
   "metadata": {},
   "outputs": [],
   "source": [
    "X = data[x_cols]\n",
    "vif = [variance_inflation_factor(X.values, i) for i in range(X.shape[1])]\n",
    "list(zip(x_cols, vif))"
   ]
  }
 ],
 "metadata": {
  "kernelspec": {
   "display_name": "Python 3",
   "language": "python",
   "name": "python3"
  },
  "language_info": {
   "codemirror_mode": {
    "name": "ipython",
    "version": 3
   },
   "file_extension": ".py",
   "mimetype": "text/x-python",
   "name": "python",
   "nbconvert_exporter": "python",
   "pygments_lexer": "ipython3",
   "version": "3.8.1"
  }
 },
 "nbformat": 4,
 "nbformat_minor": 4
}
